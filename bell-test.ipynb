{
 "cells": [
  {
   "cell_type": "markdown",
   "id": "8b75ba34",
   "metadata": {},
   "source": [
    "### Bell Test on Real Quantum Hardware\n",
    "This notebook calculates the result of the Bell Test on the SpinQ Gemini Mini 2-qubit quantum computer. Please refer to this Notion Page: https://www.notion.so/lanabozanic/2-Qubit-NMR-Quantum-Computer-Guide-3a48ff5d0127444b813376c227e18d85?pvs=4"
   ]
  },
  {
   "cell_type": "code",
   "execution_count": 203,
   "id": "7a1e1889",
   "metadata": {},
   "outputs": [],
   "source": [
    "import numpy as np\n",
    "import math"
   ]
  },
  {
   "cell_type": "markdown",
   "id": "af7fd807",
   "metadata": {},
   "source": [
    "The data is formulated by describing the probabilities of measuring $|00\\rangle,|10\\rangle,|01\\rangle,|11\\rangle$ \n",
    "\n",
    "For each pair of observables, $\\langle A_0 \\otimes B_0 \\rangle,\\langle A_1 \\otimes B_0 \\rangle,\\langle A_0 \\otimes B_1 \\rangle,\\langle A_1 \\otimes B_1 \\rangle$\n",
    "\n",
    "For example, the array below describes a perfect, noiseless bell test on the state  $\\dfrac{|00\\rangle + |11\\rangle}{\\sqrt2}$"
   ]
  },
  {
   "cell_type": "code",
   "execution_count": 221,
   "id": "e2694577",
   "metadata": {},
   "outputs": [],
   "source": [
    "simulationBellState1=[[73223,426776,426776,73223],[426776,73223,73223,426776],[426776,73223,73223,426776],[426776,73223,73223,426776]]"
   ]
  },
  {
   "cell_type": "markdown",
   "id": "0a803368",
   "metadata": {},
   "source": [
    "Real data taken from SpinQ's machine can be found below. For this set, we used the built-in bell test circuits \n",
    "\n",
    "(With obseravbles $A_0 = X, A_1 = Y, B_0 = (X+Y)/2, B_1=(X-Y)/2$)\n",
    "\n"
   ]
  },
  {
   "cell_type": "code",
   "execution_count": 233,
   "id": "bfc48812",
   "metadata": {},
   "outputs": [],
   "source": [
    "realhardware_XY=[[0,3989898,529312,71697], [250000, 132098, 249999, 367901], [309826, 15208, 190173, 484791], [46125, 0,0,573874]]\n",
    "realhardware_XY2 =[[0,0.426179, 0.496833, 0.076986], [0.280296, 0.019552, 0.23579, 0.46436], [0.301346, 0.068455, 0.135564, 0.494632], [0.407092, 0, 0.088186, 0.50472]]"
   ]
  },
  {
   "cell_type": "markdown",
   "id": "c7f43c3f",
   "metadata": {},
   "source": [
    "We also did the bell test with observables $A_0 = Z, A_1 = X, B_0 = (Z+X)/2, B_1=(Z-X)/2$) "
   ]
  },
  {
   "cell_type": "code",
   "execution_count": 234,
   "id": "63b001b6",
   "metadata": {},
   "outputs": [],
   "source": [
    "realhardware_XZ = [[0.329255, 0, 0.148068, 0.521883],[0.348826, 0.044663, 0.178636, 0.427874], [0.534544, 0.078076, 0, 0.387379], [0.181535, 0.50466, 0.313095, 0]]"
   ]
  },
  {
   "cell_type": "markdown",
   "id": "fcf887c6",
   "metadata": {},
   "source": [
    "We define the function to find the expectation value of a given pair of observables by calculating \n",
    "\n",
    "$$E =  \\dfrac{N_{00} - N_{10} - N_{01} + N_{11}}{N_{00} + N_{10} + N_{01} + N_{11}}$$.\n",
    "\n",
    "We calculate the total expectation value by adding up all absolute value of all expectation values (we can do this because only one of  $\\langle A_0 \\otimes B_0 \\rangle$ or  $\\langle A_1 \\otimes B_1 \\rangle$ will have opposite sign to all other expectation values, so for simplicity we take the asbolute value of each expectation value to find CSHS equality violations."
   ]
  },
  {
   "cell_type": "code",
   "execution_count": 224,
   "id": "1b9bdc2d",
   "metadata": {},
   "outputs": [],
   "source": [
    "def get_E(a,b,c,d):\n",
    "    E = (a - b - c + d) / (a + b + c + d)\n",
    "    return E\n",
    "\n",
    "def expectation(data):\n",
    "    S = 0\n",
    "    for i in range(len(data)):\n",
    "        E = get_E(data[i][0], data[i][1], data[i][2], data[i][3])\n",
    "        S += abs(E)\n",
    "    print('S =',S)"
   ]
  },
  {
   "cell_type": "markdown",
   "id": "c0b5325f",
   "metadata": {},
   "source": [
    "Now we can find the expectation value of any dataset. For example, the ideal bell test on $\\dfrac{|00\\rangle + |11\\rangle}{\\sqrt2}$"
   ]
  },
  {
   "cell_type": "code",
   "execution_count": 225,
   "id": "3cbe58e3",
   "metadata": {},
   "outputs": [
    {
     "name": "stdout",
     "output_type": "stream",
     "text": [
      "S = 2.828429656859314\n"
     ]
    }
   ],
   "source": [
    "expectation(simulationBellState1)"
   ]
  },
  {
   "cell_type": "markdown",
   "id": "f4b6949c",
   "metadata": {},
   "source": [
    "Which is $2\\sqrt2$, the maximum expectation valued allowed (which makes sense, because this state is maximally entangled)"
   ]
  },
  {
   "cell_type": "markdown",
   "id": "23901dd9",
   "metadata": {},
   "source": [
    "For experiments on the real quantum hardware we find:"
   ]
  },
  {
   "cell_type": "code",
   "execution_count": 235,
   "id": "6fd91c84",
   "metadata": {},
   "outputs": [
    {
     "name": "stdout",
     "output_type": "stream",
     "text": [
      "S = 2.793807299224091\n"
     ]
    }
   ],
   "source": [
    "expectation(realhardware_XY)"
   ]
  },
  {
   "cell_type": "code",
   "execution_count": 236,
   "id": "dec00324",
   "metadata": {},
   "outputs": [
    {
     "name": "stdout",
     "output_type": "stream",
     "text": [
      "S = 2.750931093822963\n"
     ]
    }
   ],
   "source": [
    "expectation(realhardware_XY2)"
   ]
  },
  {
   "cell_type": "code",
   "execution_count": 238,
   "id": "7e2eda47",
   "metadata": {},
   "outputs": [
    {
     "name": "stdout",
     "output_type": "stream",
     "text": [
      "S = 2.7375501155686224\n"
     ]
    }
   ],
   "source": [
    "expectation(realhardware_XZ)"
   ]
  },
  {
   "cell_type": "markdown",
   "id": "2ddb2538",
   "metadata": {},
   "source": [
    "These all violate the bell inequality!"
   ]
  },
  {
   "cell_type": "markdown",
   "id": "400e627c",
   "metadata": {},
   "source": [
    "### Data visualization\n",
    "\n",
    "If you want to visualize the result of any experiment, you can use the code below:"
   ]
  },
  {
   "cell_type": "code",
   "execution_count": 229,
   "id": "703bbdd7",
   "metadata": {},
   "outputs": [],
   "source": [
    "import numpy as np\n",
    "import matplotlib.pyplot as plt\n",
    "\n",
    "\n",
    "def create_barplot(data):\n",
    "    bardata={\"00\": data[0],\"10\": data[1],\"01\": data[2],\"11\": data[3],}\n",
    "    courses = list(bardata.keys())\n",
    "    values = list(bardata.values())\n",
    "    plt.style.use(\"seaborn\")\n",
    "  \n",
    "    fig = plt.figure(figsize = (8, 5))\n",
    "\n",
    "    # creating the bar plot\n",
    "    plt.bar(courses, values, color ='lightseagreen',\n",
    "            width = 0.3)\n",
    "\n",
    "    plt.xlabel(\"Result\", fontsize=16)\n",
    "    plt.xticks(fontsize=16)\n",
    "    plt.yticks(fontsize=16)\n",
    "    plt.ylabel(\"Probability\", fontsize=16)\n",
    "    plt.title(\"Result\", fontsize=16)\n",
    "\n",
    "    plt.show()"
   ]
  },
  {
   "cell_type": "code",
   "execution_count": 230,
   "id": "09ce1230",
   "metadata": {},
   "outputs": [
    {
     "data": {
      "image/png": "[encoded data removed]",
      "text/plain": [
       "<Figure size 576x360 with 1 Axes>"
      ]
     },
     "metadata": {},
     "output_type": "display_data"
    }
   ],
   "source": [
    "create_barplot(simulation[1])"
   ]
  },
  {
   "cell_type": "code",
   "execution_count": null,
   "id": "808e4329",
   "metadata": {},
   "outputs": [],
   "source": []
  }
 ],
 "metadata": {
  "kernelspec": {
   "display_name": "Python 3",
   "language": "python",
   "name": "python3"
  },
  "language_info": {
   "codemirror_mode": {
    "name": "ipython",
    "version": 3
   },
   "file_extension": ".py",
   "mimetype": "text/x-python",
   "name": "python",
   "nbconvert_exporter": "python",
   "pygments_lexer": "ipython3",
   "version": "3.8.8"
  }
 },
 "nbformat": 4,
 "nbformat_minor": 5
}
