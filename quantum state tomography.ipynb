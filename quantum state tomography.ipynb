{
 "cells": [
  {
   "cell_type": "code",
   "execution_count": 1,
   "id": "c3585e90",
   "metadata": {},
   "outputs": [],
   "source": [
    "import quantumstatetomo as qst\n",
    "import numpy as np\n",
    "import qutip as qt"
   ]
  },
  {
   "cell_type": "code",
   "execution_count": 2,
   "id": "4f22e99c",
   "metadata": {},
   "outputs": [],
   "source": [
    "n_qubits = 1\n",
    "tomo_object = qst.QubitTomo(n_qubits)"
   ]
  },
  {
   "cell_type": "code",
   "execution_count": 3,
   "id": "fe8ed8a5",
   "metadata": {},
   "outputs": [],
   "source": [
    "measurements = [\"H\", \"V\", \"D\", \"A\", \"L\", \"R\"]"
   ]
  },
  {
   "cell_type": "code",
   "execution_count": 6,
   "id": "1c0e815c",
   "metadata": {},
   "outputs": [],
   "source": [
    "# gate: Id (no process)\n",
    "\n",
    "counts_zero_idreal = np.array([1,0, 0.5, 0.5, 0.5, 0.5])\n",
    "counts_one_idreal =  np.array([0,1,0.5, 0.5, 0.5, 0.5])\n",
    "counts_plus_idreal = np.array([0.5, 0.5, 1,0, 0.694413, 0.305586])\n",
    "counts_imag_idreal = np.array([0.705312, 0.294687, 0.229734, 0.770265, 1,0])\n",
    "\n",
    "counts_tot_idreal = [counts_zero_idreal,counts_one_idreal,counts_plus_idreal,counts_imag_idreal]"
   ]
  },
  {
   "cell_type": "markdown",
   "id": "c4be0105",
   "metadata": {},
   "source": [
    "# $|0\\rangle$"
   ]
  },
  {
   "cell_type": "code",
   "execution_count": 12,
   "id": "a6237198",
   "metadata": {},
   "outputs": [
    {
     "name": "stdout",
     "output_type": "stream",
     "text": [
      "Optimization terminated successfully    (Exit mode 0)\n",
      "            Current function value: 3.178095417401875e-09\n",
      "            Iterations: 7\n",
      "            Function evaluations: 38\n",
      "            Gradient evaluations: 7\n"
     ]
    },
    {
     "data": {
      "text/latex": [
       "Quantum object: dims = [[2], [2]], shape = (2, 2), type = oper, isherm = True\\begin{equation*}\\left(\\begin{array}{*{11}c}1.000 & (4.864\\times10^{-05}-3.655\\times10^{-05}j)\\\\(4.864\\times10^{-05}+3.655\\times10^{-05}j) & 4.846\\times10^{-09}\\\\\\end{array}\\right)\\end{equation*}"
      ],
      "text/plain": [
       "Quantum object: dims = [[2], [2]], shape = (2, 2), type = oper, isherm = True\n",
       "Qobj data =\n",
       "[[9.99999995e-01+0.00000000e+00j 4.86407046e-05-3.65546458e-05j]\n",
       " [4.86407046e-05+3.65546458e-05j 4.84643138e-09+0.00000000e+00j]]"
      ]
     },
     "execution_count": 12,
     "metadata": {},
     "output_type": "execute_result"
    }
   ],
   "source": [
    "tomo_object_zero = qst.QubitTomo(1)\n",
    "rho_zero = tomo_object.qst_MLE(measurements, counts_zero_idreal)\n",
    "tomo_object_zero.display_rho(rho_zero.matrix)"
   ]
  },
  {
   "cell_type": "markdown",
   "id": "c1ca81c7",
   "metadata": {},
   "source": [
    "# $|1\\rangle$"
   ]
  },
  {
   "cell_type": "code",
   "execution_count": 13,
   "id": "7f1eba63",
   "metadata": {},
   "outputs": [
    {
     "name": "stdout",
     "output_type": "stream",
     "text": [
      "Optimization terminated successfully    (Exit mode 0)\n",
      "            Current function value: 3.2411893549180394e-06\n",
      "            Iterations: 9\n",
      "            Function evaluations: 48\n",
      "            Gradient evaluations: 9\n"
     ]
    },
    {
     "data": {
      "text/latex": [
       "Quantum object: dims = [[2], [2]], shape = (2, 2), type = oper, isherm = True\\begin{equation*}\\left(\\begin{array}{*{11}c}5.777\\times10^{-04} & (6.964\\times10^{-04}+1.137\\times10^{-04}j)\\\\(6.964\\times10^{-04}-1.137\\times10^{-04}j) & 0.999\\\\\\end{array}\\right)\\end{equation*}"
      ],
      "text/plain": [
       "Quantum object: dims = [[2], [2]], shape = (2, 2), type = oper, isherm = True\n",
       "Qobj data =\n",
       "[[5.77732763e-04+0.j         6.96430656e-04+0.00011372j]\n",
       " [6.96430656e-04-0.00011372j 9.99422267e-01+0.j        ]]"
      ]
     },
     "execution_count": 13,
     "metadata": {},
     "output_type": "execute_result"
    }
   ],
   "source": [
    "tomo_object_one = qst.QubitTomo(1)\n",
    "rho_one = tomo_object.qst_MLE(measurements, counts_one_idreal)\n",
    "tomo_object_one.display_rho(rho_one.matrix)"
   ]
  },
  {
   "cell_type": "markdown",
   "id": "14bc73bf",
   "metadata": {},
   "source": [
    "# $|+\\rangle$"
   ]
  },
  {
   "cell_type": "code",
   "execution_count": 14,
   "id": "0ff56da3",
   "metadata": {},
   "outputs": [
    {
     "name": "stdout",
     "output_type": "stream",
     "text": [
      "Optimization terminated successfully    (Exit mode 0)\n",
      "            Current function value: 0.0014097718845429946\n",
      "            Iterations: 18\n",
      "            Function evaluations: 94\n",
      "            Gradient evaluations: 18\n"
     ]
    },
    {
     "data": {
      "text/latex": [
       "Quantum object: dims = [[2], [2]], shape = (2, 2), type = oper, isherm = True\\begin{equation*}\\left(\\begin{array}{*{11}c}0.500 & (0.469-0.174j)\\\\(0.469+0.174j) & 0.500\\\\\\end{array}\\right)\\end{equation*}"
      ],
      "text/plain": [
       "Quantum object: dims = [[2], [2]], shape = (2, 2), type = oper, isherm = True\n",
       "Qobj data =\n",
       "[[0.50016687+0.j         0.46877463-0.17392325j]\n",
       " [0.46877463+0.17392325j 0.49983313+0.j        ]]"
      ]
     },
     "execution_count": 14,
     "metadata": {},
     "output_type": "execute_result"
    }
   ],
   "source": [
    "tomo_object_plus = qst.QubitTomo(1)\n",
    "rho_plus = tomo_object.qst_MLE(measurements, counts_plus_idreal)\n",
    "tomo_object_plus.display_rho(rho_plus.matrix)"
   ]
  },
  {
   "cell_type": "markdown",
   "id": "68e14063",
   "metadata": {},
   "source": [
    "# $|+i\\rangle$"
   ]
  },
  {
   "cell_type": "code",
   "execution_count": 15,
   "id": "ecd2f0a8",
   "metadata": {},
   "outputs": [
    {
     "name": "stdout",
     "output_type": "stream",
     "text": [
      "Optimization terminated successfully    (Exit mode 0)\n",
      "            Current function value: 0.007670745126239751\n",
      "            Iterations: 13\n",
      "            Function evaluations: 69\n",
      "            Gradient evaluations: 13\n"
     ]
    },
    {
     "data": {
      "text/latex": [
       "Quantum object: dims = [[2], [2]], shape = (2, 2), type = oper, isherm = True\\begin{equation*}\\left(\\begin{array}{*{11}c}0.665 & (-0.218-0.419j)\\\\(-0.218+0.419j) & 0.335\\\\\\end{array}\\right)\\end{equation*}"
      ],
      "text/plain": [
       "Quantum object: dims = [[2], [2]], shape = (2, 2), type = oper, isherm = True\n",
       "Qobj data =\n",
       "[[ 0.66476264+0.j         -0.21761336-0.41892308j]\n",
       " [-0.21761336+0.41892308j  0.33523736+0.j        ]]"
      ]
     },
     "execution_count": 15,
     "metadata": {},
     "output_type": "execute_result"
    }
   ],
   "source": [
    "tomo_object_imag = qst.QubitTomo(1)\n",
    "rho_imag = tomo_object.qst_MLE(measurements, counts_imag_idreal)\n",
    "tomo_object_imag.display_rho(rho_imag.matrix)"
   ]
  },
  {
   "cell_type": "markdown",
   "id": "d596ab8f",
   "metadata": {},
   "source": [
    "# $|+\\rangle - \\dfrac{1}{\\sqrt{2}}(|0\\rangle +|1\\rangle)$"
   ]
  },
  {
   "cell_type": "code",
   "execution_count": 17,
   "id": "c9728400",
   "metadata": {},
   "outputs": [
    {
     "data": {
      "text/latex": [
       "Quantum object: dims = [[2], [2]], shape = (2, 2), type = oper, isherm = True\\begin{equation*}\\left(\\begin{array}{*{11}c}-0.207 & (0.468-0.174j)\\\\(0.468+0.174j) & -0.207\\\\\\end{array}\\right)\\end{equation*}"
      ],
      "text/plain": [
       "Quantum object: dims = [[2], [2]], shape = (2, 2), type = oper, isherm = True\n",
       "Qobj data =\n",
       "[[-0.20734842+0.j          0.46824778-0.17397782j]\n",
       " [ 0.46824778+0.17397782j -0.20686514+0.j        ]]"
      ]
     },
     "execution_count": 17,
     "metadata": {},
     "output_type": "execute_result"
    }
   ],
   "source": [
    "tomo_object_imag.display_rho(rho_plus.matrix - (1/np.sqrt(2))*(rho_zero.matrix + rho_one.matrix))"
   ]
  },
  {
   "cell_type": "code",
   "execution_count": null,
   "id": "e0aabf5c",
   "metadata": {},
   "outputs": [],
   "source": []
  }
 ],
 "metadata": {
  "kernelspec": {
   "display_name": "Python 3",
   "language": "python",
   "name": "python3"
  },
  "language_info": {
   "codemirror_mode": {
    "name": "ipython",
    "version": 3
   },
   "file_extension": ".py",
   "mimetype": "text/x-python",
   "name": "python",
   "nbconvert_exporter": "python",
   "pygments_lexer": "ipython3",
   "version": "3.8.8"
  }
 },
 "nbformat": 4,
 "nbformat_minor": 5
}
