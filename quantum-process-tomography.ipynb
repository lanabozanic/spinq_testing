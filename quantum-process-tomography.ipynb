{
 "cells": [
  {
   "cell_type": "code",
   "execution_count": 1,
   "id": "63f2b507",
   "metadata": {},
   "outputs": [],
   "source": [
    "import warnings\n",
    "warnings.filterwarnings(\"ignore\")"
   ]
  },
  {
   "cell_type": "markdown",
   "id": "ac0217ba",
   "metadata": {},
   "source": [
    "This is an old library I made to perform quantum state tomography. Since I made the library to be applicable to quantum optics, the measurements are in terms of polarization. You can still apply it in standard notation for quantum states:\n",
    "\n",
    "$Z$ basis\n",
    "$|H\\rangle = |0\\rangle$\n",
    "$|V\\rangle = |1\\rangle$\n",
    "\n",
    "$X$ basis\n",
    "$|+\\rangle = |D\\rangle$\n",
    "$|-\\rangle = |A\\rangle$\n",
    "\n",
    "$Y$ basis\n",
    "$|+i\\rangle = |L\\rangle$\n",
    "$|-i\\rangle = |R\\rangle$"
   ]
  },
  {
   "cell_type": "code",
   "execution_count": 2,
   "id": "3fe05c43",
   "metadata": {},
   "outputs": [],
   "source": [
    "import quantumstatetomo as qst\n",
    "import numpy as np\n",
    "import qutip as qt"
   ]
  },
  {
   "cell_type": "markdown",
   "id": "2baf0079",
   "metadata": {},
   "source": [
    "Initialize the quantum state tomography object. Here we use 1 qubit:"
   ]
  },
  {
   "cell_type": "code",
   "execution_count": 3,
   "id": "91388885",
   "metadata": {},
   "outputs": [],
   "source": [
    "n_qubits = 1\n",
    "tomo_object = qst.QubitTomo(n_qubits)"
   ]
  },
  {
   "cell_type": "markdown",
   "id": "426f1f85",
   "metadata": {},
   "source": [
    "We have to define which measurements were done. See the above comment to convert to the usual notation."
   ]
  },
  {
   "cell_type": "code",
   "execution_count": 4,
   "id": "8d35ae8b",
   "metadata": {},
   "outputs": [],
   "source": [
    "measurements = [\"H\", \"V\", \"D\", \"A\", \"L\", \"R\"]"
   ]
  },
  {
   "cell_type": "markdown",
   "id": "654cc8ac",
   "metadata": {},
   "source": [
    "Input the corresponding data for each of the measurement results"
   ]
  },
  {
   "cell_type": "markdown",
   "id": "6fecb625",
   "metadata": {},
   "source": [
    "# Tomography on input state $|0\\rangle$"
   ]
  },
  {
   "cell_type": "code",
   "execution_count": 5,
   "id": "efae05ea",
   "metadata": {},
   "outputs": [
    {
     "name": "stdout",
     "output_type": "stream",
     "text": [
      "Optimization terminated successfully    (Exit mode 0)\n",
      "            Current function value: 3.178095417401875e-09\n",
      "            Iterations: 7\n",
      "            Function evaluations: 38\n",
      "            Gradient evaluations: 7\n"
     ]
    },
    {
     "data": {
      "text/latex": [
       "Quantum object: dims = [[2], [2]], shape = (2, 2), type = oper, isherm = True\\begin{equation*}\\left(\\begin{array}{*{11}c}1.000 & (4.864\\times10^{-05}-3.655\\times10^{-05}j)\\\\(4.864\\times10^{-05}+3.655\\times10^{-05}j) & 4.846\\times10^{-09}\\\\\\end{array}\\right)\\end{equation*}"
      ],
      "text/plain": [
       "Quantum object: dims = [[2], [2]], shape = (2, 2), type = oper, isherm = True\n",
       "Qobj data =\n",
       "[[9.99999995e-01+0.00000000e+00j 4.86407046e-05-3.65546458e-05j]\n",
       " [4.86407046e-05+3.65546458e-05j 4.84643138e-09+0.00000000e+00j]]"
      ]
     },
     "execution_count": 5,
     "metadata": {},
     "output_type": "execute_result"
    }
   ],
   "source": [
    "counts_groud = np.array([1, 0, 0.5, 0.5, 0.5, 0.5])\n",
    "groundstate = tomo_object.qst_MLE(measurements, counts_groud)\n",
    "qt.Qobj(groundstate.matrix)"
   ]
  },
  {
   "cell_type": "markdown",
   "id": "62a73380",
   "metadata": {},
   "source": [
    "Now, we can do the same process on each state of interest:"
   ]
  },
  {
   "cell_type": "markdown",
   "id": "00741d2b",
   "metadata": {},
   "source": [
    "# Data"
   ]
  },
  {
   "cell_type": "code",
   "execution_count": 6,
   "id": "fc0dfdf1",
   "metadata": {},
   "outputs": [],
   "source": [
    "# ideal identity\n",
    "counts_zero_id = np.array([1, 0, 1/2, 1/2, 1/2, 1/2])\n",
    "counts_one_id =  np.array([0, 1, 1/2, 1/2, 1/2, 1/2])\n",
    "counts_plus_id = np.array([1/2, 1/2, 1, 0, 1/2, 1/2])\n",
    "counts_imag_id = np.array([1/2, 1/2, 1/2, 1/2, 1, 0])\n",
    "\n",
    "counts_tot_id = [counts_zero_id,counts_one_id,counts_plus_id,counts_imag_id]"
   ]
  },
  {
   "cell_type": "code",
   "execution_count": 7,
   "id": "e28801b9",
   "metadata": {},
   "outputs": [],
   "source": [
    "# ideal Z\n",
    "counts_zero_Z = np.array([1, 0, 1/2, 1/2, 1/2, 1/2])\n",
    "counts_one_Z =  np.array([0, 1, 1/2, 1/2, 1/2, 1/2])\n",
    "counts_plus_Z = np.array([1/2, 1/2, 0, 1, 1/2, 1/2])\n",
    "counts_imag_Z = np.array([1/2, 1/2, 1/2, 1/2, 0, 1])\n",
    "\n",
    "counts_tot_Z = [counts_zero_Z,counts_one_Z,counts_plus_Z,counts_imag_Z]"
   ]
  },
  {
   "cell_type": "code",
   "execution_count": 8,
   "id": "c46c6339",
   "metadata": {},
   "outputs": [],
   "source": [
    "# ideal X\n",
    "counts_zero_X = np.array([0, 1, 1/2, 1/2, 1/2, 1/2])\n",
    "counts_one_X = np.array([1, 0, 1/2, 1/2, 1/2, 1/2])\n",
    "counts_plus_X = np.array([1/2, 1/2, 1, 0, 1/2, 1/2])\n",
    "counts_imag_X = np.array([1/2, 1/2, 1/2, 1/2, 0, 1])\n",
    "\n",
    "counts_tot_X = [counts_zero_X,counts_one_X,counts_plus_X,counts_imag_X]"
   ]
  },
  {
   "cell_type": "code",
   "execution_count": 9,
   "id": "0a771da4",
   "metadata": {},
   "outputs": [],
   "source": [
    "# ideal Sqrt X\n",
    "counts_zero_SqrtX = np.array([1/2,1/2, 1/2, 1/2, 0, 1])\n",
    "counts_one_SqrtX =  np.array([1/2, 1/2, 1/2, 1/2, 1,0])\n",
    "counts_plus_SqrtX = np.array([1/2, 1/2, 1, 0, 1/2, 1/2])\n",
    "counts_imag_SqrtX = np.array([1, 0, 1/2, 1/2, 1/2, 1/2])\n",
    "\n",
    "counts_tot_SqrtX = [counts_zero_SqrtX,counts_one_SqrtX,counts_plus_SqrtX,counts_imag_SqrtX]"
   ]
  },
  {
   "cell_type": "code",
   "execution_count": 10,
   "id": "391c9f9d",
   "metadata": {},
   "outputs": [],
   "source": [
    "# gate: Z\n",
    "counts_zero_real = np.array([1,0,0.5,0.5, 0.675088, 0.324911])\n",
    "counts_one_real = np.array([0, 0.992678, 0.595311, 0.505688, 0.325639, 0.67436])\n",
    "counts_plus_real = np.array([0.5, 0.5, 0,1, 0.5, 0.5])\n",
    "counts_imag_real=np.array([0.711812, 0.288187, 0.778007, 0.221992, 0, 1])\n",
    "\n",
    "counts_zero_Zreal=np.array([1,0, 0.590612, 0.409387, 0.585846, 0.415153])\n",
    "counts_one_Zreal =np.array([0.007163, 0.992836, 0.5, 0.5,0.482062,0.517937])\n",
    "counts_plus_Zreal = np.array([0.5,0.5,0,1,0.756525,0.243474])\n",
    "counts_imag_Zreal = np.array([0.294445, 0.705554, 0.729905, 0.270094, 0, 1])\n",
    "\n",
    "counts_tot_real=[counts_zero_Zreal,counts_one_Zreal,counts_plus_Zreal,counts_imag_Zreal]"
   ]
  },
  {
   "cell_type": "code",
   "execution_count": 11,
   "id": "1b82e0f0",
   "metadata": {},
   "outputs": [],
   "source": [
    "# gate: X\n",
    "counts_zero_real2=np.array([0,1, 0.392822,0.606177, 0.657176, 0.342823])\n",
    "counts_one_real2=np.array([1,0, 0.5,0.5,0.438488, 0.561511])\n",
    "counts_plus_real2 = np.array([0.5, 0.5, 0.014501, 0.985498, 0.552788, 0.447211])\n",
    "counts_imag_real2 = np.array([0.702849, 0.29715, 0.745083, 0.254916, 0.995911, 0.004088])\n",
    "\n",
    "counts_zero_Xreal2=np.array([0, 1, 0.5, 0.5, 0.5, 0.5])\n",
    "counts_one_Xreal2=np.array([1, 0, 0.5, 0.5, 0.5, 0.5])\n",
    "counts_plus_Xreal2 = np.array([0.5, 0.5, 1,0, 0.627134, 0.372865])\n",
    "counts_imag_Xreal2 = np.array([0.277033, 0.722966, 0.72134, 0.278569, 0, 1])\n",
    "\n",
    "\n",
    "counts_tot_Xreal2=[counts_zero_Xreal2,counts_one_Xreal2,counts_plus_Xreal2,counts_imag_Xreal2]"
   ]
  },
  {
   "cell_type": "code",
   "execution_count": 12,
   "id": "a9b9e73e",
   "metadata": {},
   "outputs": [],
   "source": [
    " # SQRT X (redo)\n",
    "counts_zero_SqrtXreal = np.array([0.304315, 0.695684, 0.793958, 0.206041, 0, 1])\n",
    "counts_one_SqrtXreal = np.array([0.748577, 0.251422, 0.281981, 0.718018, 1,0])\n",
    "counts_plus_SqrtXreal = np.array([0.5, 0.5,1,0,0.74518, 0.254981])\n",
    "counts_imag_SqrtXreal = np.array([1,0,0.5,0.5,0.5, 0.5])\n",
    "\n",
    "counts_tot_SqrtX_real = [counts_zero_SqrtXreal, counts_one_SqrtXreal, counts_plus_SqrtXreal, counts_imag_SqrtXreal]"
   ]
  },
  {
   "cell_type": "code",
   "execution_count": 13,
   "id": "d804202f",
   "metadata": {},
   "outputs": [],
   "source": [
    "# gate: Sqrt Y\n",
    "counts_zero_SqrtYreal= np.array([0.5, 0.5, 1,0, 0.632044, 0.367955])\n",
    "counts_one_SqrtYreal = np.array([0.5, 0.5, 0,1, 0.185172, 0.814827])\n",
    "counts_plus_SqrtYreal =np.array([0,1, 0.5, 0.5,0.5, 0.5])\n",
    "counts_imag_SqrtYreal=np.array([0, 1, 0.24758, 0.752419, 1,0])\n",
    "\n",
    "counts_tot_SqrtYreal = [counts_zero_SqrtYreal,counts_one_SqrtYreal,counts_plus_SqrtYreal,counts_imag_SqrtYreal]"
   ]
  },
  {
   "cell_type": "code",
   "execution_count": 20,
   "id": "149eea6d",
   "metadata": {},
   "outputs": [],
   "source": [
    "# gate: Id (no process)\n",
    "\n",
    "counts_zero_idreal = np.array([1,0, 0.5, 0.5, 0.5, 0.5])\n",
    "counts_one_idreal =  np.array([0,1,0.5, 0.5, 0.5, 0.5])\n",
    "counts_plus_idreal = np.array([0.5, 0.5, 1,0, 0.694413, 0.305586])\n",
    "counts_imag_idreal = np.array([0.705312, 0.294687, 0.229734, 0.770265, 1,0])\n",
    "\n",
    "counts_tot_idreal = [counts_zero_idreal,counts_one_idreal,counts_plus_idreal,counts_imag_idreal]"
   ]
  },
  {
   "cell_type": "code",
   "execution_count": 15,
   "id": "f7cdacc9",
   "metadata": {},
   "outputs": [],
   "source": [
    "def get_tomoresults(counts, measurements):\n",
    "    tomo_results = []\n",
    "    for count in counts:\n",
    "        print(count)\n",
    "        tomo_object = qst.QubitTomo(n_qubits)\n",
    "        rho = tomo_object.qst_MLE(measurements, count)\n",
    "        tomo_results.append(np.array(rho.matrix))\n",
    "    return tomo_results"
   ]
  },
  {
   "cell_type": "markdown",
   "id": "6e618553",
   "metadata": {},
   "source": [
    "Now, we have reconstructed $\\mathcal{E}|0\\rangle\\langle 0|,\\space \\mathcal{E}|1\\rangle\\langle 1|, \\space\\mathcal{E}|+\\rangle\\langle +|,\\space \\mathcal{E}|i\\rangle\\langle i|$ .\n",
    "\n",
    "To get $\\mathcal{E}|0\\rangle\\langle 1|$, $\\mathcal{E}|1\\rangle\\langle 0|$, we do:\n",
    "\n",
    "$\\mathcal{E}|0\\rangle\\langle 1|$ = $\\mathcal{E}|+\\rangle\\langle +| + i\\mathcal{E}|i\\rangle\\langle i| - \\dfrac{1+i}{2}\\Big(\\mathcal{E}|0\\rangle\\langle 0|+\\mathcal{E}|1\\rangle\\langle 1|\\Big)$\n",
    "\n",
    "$\\mathcal{E}|1\\rangle\\langle 0|$ = $\\mathcal{E}|+\\rangle\\langle +| - i\\mathcal{E}|i\\rangle\\langle i| - \\dfrac{1-i}{2}\\Big(\\mathcal{E}|0\\rangle\\langle 0|+\\mathcal{E}|1\\rangle\\langle 1|\\Big)$"
   ]
  },
  {
   "cell_type": "code",
   "execution_count": 16,
   "id": "0a5fc161",
   "metadata": {},
   "outputs": [],
   "source": [
    "def getchoi(tomoresults):\n",
    "    zero = tomoresults[0]\n",
    "    one = tomoresults[1]\n",
    "    plus = tomoresults[2]\n",
    "    imag = tomoresults[3]\n",
    "    \n",
    "    choi00 = zero\n",
    "    choi11 = one\n",
    "    choi01 = plus + 1j * imag -(1+1j)*(zero + one)/2 \n",
    "    choi10 = plus - 1j * imag -(1-1j)*(zero + one)/2 \n",
    "    \n",
    "    choi = np.block([[choi00, choi01], \n",
    "                     [choi10, choi11]])\n",
    "    return choi"
   ]
  },
  {
   "cell_type": "markdown",
   "id": "2123ae48",
   "metadata": {},
   "source": [
    "# Identity (Ideal)"
   ]
  },
  {
   "cell_type": "code",
   "execution_count": 17,
   "id": "a6a10460",
   "metadata": {},
   "outputs": [
    {
     "name": "stdout",
     "output_type": "stream",
     "text": [
      "[1.  0.  0.5 0.5 0.5 0.5]\n",
      "Optimization terminated successfully    (Exit mode 0)\n",
      "            Current function value: 3.178095417401875e-09\n",
      "            Iterations: 7\n",
      "            Function evaluations: 38\n",
      "            Gradient evaluations: 7\n",
      "[0.  1.  0.5 0.5 0.5 0.5]\n",
      "Optimization terminated successfully    (Exit mode 0)\n",
      "            Current function value: 3.2411893549180394e-06\n",
      "            Iterations: 9\n",
      "            Function evaluations: 48\n",
      "            Gradient evaluations: 9\n",
      "[0.5 0.5 1.  0.  0.5 0.5]\n",
      "Optimization terminated successfully    (Exit mode 0)\n",
      "            Current function value: 4.0683414475116035e-07\n",
      "            Iterations: 19\n",
      "            Function evaluations: 100\n",
      "            Gradient evaluations: 19\n",
      "[0.5 0.5 0.5 0.5 1.  0. ]\n",
      "Optimization terminated successfully    (Exit mode 0)\n",
      "            Current function value: 2.5428438449672457e-07\n",
      "            Iterations: 20\n",
      "            Function evaluations: 106\n",
      "            Gradient evaluations: 20\n"
     ]
    }
   ],
   "source": [
    "results_id = get_tomoresults(counts_tot_id, measurements)"
   ]
  },
  {
   "cell_type": "code",
   "execution_count": 18,
   "id": "33b9fc37",
   "metadata": {},
   "outputs": [
    {
     "data": {
      "text/latex": [
       "Quantum object: dims = [[4], [4]], shape = (4, 4), type = oper, isherm = True\\begin{equation*}\\left(\\begin{array}{*{11}c}1.0 & 0.0 & (-2.000\\times10^{-04}-2.000\\times10^{-04}j) & (0.999-5.000\\times10^{-04}j)\\\\0.0 & 0.0 & (-4.000\\times10^{-04}-2.000\\times10^{-04}j) & (2.000\\times10^{-04}+2.000\\times10^{-04}j)\\\\(-2.000\\times10^{-04}+2.000\\times10^{-04}j) & (-4.000\\times10^{-04}+2.000\\times10^{-04}j) & 6.000\\times10^{-04} & (7.000\\times10^{-04}+1.000\\times10^{-04}j)\\\\(0.999+5.000\\times10^{-04}j) & (2.000\\times10^{-04}-2.000\\times10^{-04}j) & (7.000\\times10^{-04}-1.000\\times10^{-04}j) & 0.999\\\\\\end{array}\\right)\\end{equation*}"
      ],
      "text/plain": [
       "Quantum object: dims = [[4], [4]], shape = (4, 4), type = oper, isherm = True\n",
       "Qobj data =\n",
       "[[ 1.000e+00+0.j      0.000e+00+0.j     -2.000e-04-0.0002j\n",
       "   9.994e-01-0.0005j]\n",
       " [ 0.000e+00+0.j      0.000e+00+0.j     -4.000e-04-0.0002j\n",
       "   2.000e-04+0.0002j]\n",
       " [-2.000e-04+0.0002j -4.000e-04+0.0002j  6.000e-04+0.j\n",
       "   7.000e-04+0.0001j]\n",
       " [ 9.994e-01+0.0005j  2.000e-04-0.0002j  7.000e-04-0.0001j\n",
       "   9.994e-01+0.j    ]]"
      ]
     },
     "execution_count": 18,
     "metadata": {},
     "output_type": "execute_result"
    }
   ],
   "source": [
    "tomo_object.display_rho(np.round(getchoi(results_id),4))"
   ]
  },
  {
   "cell_type": "markdown",
   "id": "43787043",
   "metadata": {},
   "source": [
    "# Identity (real data)"
   ]
  },
  {
   "cell_type": "code",
   "execution_count": 21,
   "id": "dd8cd485",
   "metadata": {
    "collapsed": true
   },
   "outputs": [
    {
     "name": "stdout",
     "output_type": "stream",
     "text": [
      "[1.  0.  0.5 0.5 0.5 0.5]\n",
      "Optimization terminated successfully    (Exit mode 0)\n",
      "            Current function value: 3.178095417401875e-09\n",
      "            Iterations: 7\n",
      "            Function evaluations: 38\n",
      "            Gradient evaluations: 7\n",
      "[0.  1.  0.5 0.5 0.5 0.5]\n",
      "Optimization terminated successfully    (Exit mode 0)\n",
      "            Current function value: 3.2411893549180394e-06\n",
      "            Iterations: 9\n",
      "            Function evaluations: 48\n",
      "            Gradient evaluations: 9\n",
      "[0.5      0.5      1.       0.       0.694413 0.305586]\n",
      "Optimization terminated successfully    (Exit mode 0)\n",
      "            Current function value: 0.0014097718845429946\n",
      "            Iterations: 18\n",
      "            Function evaluations: 94\n",
      "            Gradient evaluations: 18\n",
      "[0.705312 0.294687 0.229734 0.770265 1.       0.      ]\n",
      "Optimization terminated successfully    (Exit mode 0)\n",
      "            Current function value: 0.007670745126239751\n",
      "            Iterations: 13\n",
      "            Function evaluations: 69\n",
      "            Gradient evaluations: 13\n"
     ]
    }
   ],
   "source": [
    "results_idreal = get_tomoresults(counts_tot_idreal, measurements)"
   ]
  },
  {
   "cell_type": "code",
   "execution_count": 22,
   "id": "5a065a39",
   "metadata": {},
   "outputs": [
    {
     "data": {
      "text/latex": [
       "Quantum object: dims = [[4], [4]], shape = (4, 4), type = oper, isherm = True\\begin{equation*}\\left(\\begin{array}{*{11}c}1.0 & 0.0 & (-1.000\\times10^{-04}+0.165j) & (0.887-0.392j)\\\\0.0 & 0.0 & (0.049-0.044j) & (1.000\\times10^{-04}-0.165j)\\\\(-1.000\\times10^{-04}-0.165j) & (0.049+0.044j) & 6.000\\times10^{-04} & (7.000\\times10^{-04}+1.000\\times10^{-04}j)\\\\(0.887+0.392j) & (1.000\\times10^{-04}+0.165j) & (7.000\\times10^{-04}-1.000\\times10^{-04}j) & 0.999\\\\\\end{array}\\right)\\end{equation*}"
      ],
      "text/plain": [
       "Quantum object: dims = [[4], [4]], shape = (4, 4), type = oper, isherm = True\n",
       "Qobj data =\n",
       "[[ 1.000e+00+0.000e+00j  0.000e+00+0.000e+00j -1.000e-04+1.645e-01j\n",
       "   8.874e-01-3.919e-01j]\n",
       " [ 0.000e+00+0.000e+00j  0.000e+00+0.000e+00j  4.940e-02-4.400e-02j\n",
       "   1.000e-04-1.645e-01j]\n",
       " [-1.000e-04-1.645e-01j  4.940e-02+4.400e-02j  6.000e-04+0.000e+00j\n",
       "   7.000e-04+1.000e-04j]\n",
       " [ 8.874e-01+3.919e-01j  1.000e-04+1.645e-01j  7.000e-04-1.000e-04j\n",
       "   9.994e-01+0.000e+00j]]"
      ]
     },
     "execution_count": 22,
     "metadata": {},
     "output_type": "execute_result"
    }
   ],
   "source": [
    "tomo_object.display_rho(np.round(getchoi(results_idreal),4))"
   ]
  },
  {
   "cell_type": "markdown",
   "id": "3a38dce9",
   "metadata": {},
   "source": [
    "# Z Gate (ideal)"
   ]
  },
  {
   "cell_type": "code",
   "execution_count": null,
   "id": "434f94bd",
   "metadata": {},
   "outputs": [],
   "source": [
    "results_Z = get_tomoresults(counts_tot_Z, measurements)"
   ]
  },
  {
   "cell_type": "code",
   "execution_count": null,
   "id": "0cee61e7",
   "metadata": {},
   "outputs": [],
   "source": [
    "tomo_object.display_rho(getchoi(np.round(results_Z, 2)))"
   ]
  },
  {
   "cell_type": "markdown",
   "id": "a35d8678",
   "metadata": {},
   "source": [
    "# Z Gate (Experiment)"
   ]
  },
  {
   "cell_type": "code",
   "execution_count": null,
   "id": "4e33a9ca",
   "metadata": {},
   "outputs": [],
   "source": [
    "results_Z_real = get_tomoresults(counts_tot_real, measurements)"
   ]
  },
  {
   "cell_type": "code",
   "execution_count": null,
   "id": "c3fc9df2",
   "metadata": {
    "scrolled": true
   },
   "outputs": [],
   "source": [
    "tomo_object.display_rho(getchoi(np.round(results_Z_real,3)))"
   ]
  },
  {
   "cell_type": "code",
   "execution_count": null,
   "id": "9baf294a",
   "metadata": {},
   "outputs": [],
   "source": [
    "np.linalg.eigvals(getchoi(results_Z_real)/2)"
   ]
  },
  {
   "cell_type": "markdown",
   "id": "985f6099",
   "metadata": {},
   "source": [
    "# $\\sqrt{X}$ Gate (Ideal)"
   ]
  },
  {
   "cell_type": "code",
   "execution_count": null,
   "id": "9bcb2116",
   "metadata": {},
   "outputs": [],
   "source": [
    "results_SqrtX = get_tomoresults(counts_tot_SqrtX, measurements)"
   ]
  },
  {
   "cell_type": "code",
   "execution_count": null,
   "id": "02dd78a1",
   "metadata": {},
   "outputs": [],
   "source": [
    "tomo_object.display_rho(getchoi(np.round(results_SqrtX, 2)))"
   ]
  },
  {
   "cell_type": "markdown",
   "id": "7a610747",
   "metadata": {},
   "source": [
    "# $\\sqrt{X}$ Gate (Experiment)"
   ]
  },
  {
   "cell_type": "code",
   "execution_count": null,
   "id": "daac167a",
   "metadata": {},
   "outputs": [],
   "source": [
    "results_SqrtX_real = get_tomoresults(counts_tot_SqrtX_real, measurements)"
   ]
  },
  {
   "cell_type": "code",
   "execution_count": null,
   "id": "3abc1cd4",
   "metadata": {},
   "outputs": [],
   "source": [
    "tomo_object.display_rho(getchoi(np.round(results_SqrtX_real, 2)))"
   ]
  },
  {
   "cell_type": "code",
   "execution_count": null,
   "id": "7fbdbc53",
   "metadata": {},
   "outputs": [],
   "source": [
    "np.linalg.eigvals(getchoi(results_SqrtX_real)/2)"
   ]
  },
  {
   "cell_type": "markdown",
   "id": "54cdb6c5",
   "metadata": {},
   "source": [
    "# X Gate (Ideal)"
   ]
  },
  {
   "cell_type": "code",
   "execution_count": null,
   "id": "47abee7b",
   "metadata": {},
   "outputs": [],
   "source": [
    "results_X = get_tomoresults(counts_tot_X, measurements)"
   ]
  },
  {
   "cell_type": "code",
   "execution_count": null,
   "id": "d51b17a1",
   "metadata": {},
   "outputs": [],
   "source": [
    "tomo_object.display_rho(getchoi(np.round(results_X, 2)))"
   ]
  },
  {
   "cell_type": "code",
   "execution_count": null,
   "id": "ecc27bde",
   "metadata": {},
   "outputs": [],
   "source": [
    "np.linalg.eigvals(getchoi(results_X)/2)"
   ]
  },
  {
   "cell_type": "markdown",
   "id": "020f7f20",
   "metadata": {},
   "source": [
    "# X Gate (Experiment)"
   ]
  },
  {
   "cell_type": "code",
   "execution_count": null,
   "id": "b486acda",
   "metadata": {},
   "outputs": [],
   "source": [
    "results_realX = get_tomoresults(counts_tot_Xreal2, measurements)"
   ]
  },
  {
   "cell_type": "code",
   "execution_count": null,
   "id": "b06c8557",
   "metadata": {},
   "outputs": [],
   "source": [
    "tomo_object.display_rho(getchoi(np.round(results_realX, 3)))"
   ]
  },
  {
   "cell_type": "code",
   "execution_count": null,
   "id": "b6fb5275",
   "metadata": {},
   "outputs": [],
   "source": [
    "np.linalg.eigvals(getchoi(results_realX)/2)"
   ]
  },
  {
   "cell_type": "markdown",
   "id": "cce779f0",
   "metadata": {},
   "source": [
    "# Fidelity of choi matricies (using diamond norm)"
   ]
  },
  {
   "cell_type": "code",
   "execution_count": null,
   "id": "5d933cf8",
   "metadata": {},
   "outputs": [],
   "source": [
    "from qutip.metrics import dnorm"
   ]
  },
  {
   "cell_type": "code",
   "execution_count": null,
   "id": "f43cd99a",
   "metadata": {},
   "outputs": [],
   "source": [
    "import forest.benchmarking.distance_measures as dm\n",
    "from forest.benchmarking.operator_tools import superoperator_transformations"
   ]
  },
  {
   "cell_type": "markdown",
   "id": "adbec514",
   "metadata": {},
   "source": [
    "### Average gate fidelity\n",
    "We have several methods for measuring the fidelity of the reconstucted gates. One of which is the average gate fidelity, provided by the following formula (based on https://arxiv.org/pdf/quant-ph/9807091.pdf)\n",
    "\n",
    "$$\\bar{\\mathcal{F}_{\\mathcal{E}}} = \\dfrac{n + \\sum_i |\\text{Tr}(E_i)|^2}{n(n+1)}$$\n",
    "\n",
    "Where $\\{E_i\\}$ are the Kraus operators of $\\mathcal{E}$, $n$ is the dimension of the system."
   ]
  },
  {
   "cell_type": "code",
   "execution_count": null,
   "id": "dcf1439c",
   "metadata": {},
   "outputs": [],
   "source": [
    "def avggatefidelity(choi, n):\n",
    "    kraus = superoperator_transformations.choi2kraus(choi)\n",
    "    summ = 0\n",
    "    for E in kraus:\n",
    "        summ += np.abs(np.trace(E)) ** 2\n",
    "    \n",
    "    return (n + summ)/(n * (n+1))"
   ]
  },
  {
   "cell_type": "markdown",
   "id": "0804bfd0",
   "metadata": {},
   "source": [
    "### Diamond Distance\n",
    "\n",
    "We can also use the diamond distance, which is used to determine the **distinguishability** of two quantum channels:\n",
    "\n",
    "$$d_{\\diamond}(\\mathcal{E}, \\mathcal{F}) = \\text{max}_{\\rho} ||(\\mathcal{E}\\otimes1)\\rho -(\\mathcal{F}\\otimes1)\\rho||_1 \\leq1$$"
   ]
  },
  {
   "cell_type": "markdown",
   "id": "b2bee75a",
   "metadata": {},
   "source": [
    "### Fidelity of Chi (process) matricies\n",
    "\n",
    "If we convert the reconstructed choi matrix into Chi (process) matricies, we can use the following measure of fidelity:\n",
    "\n",
    "$$\\mathcal{F}(\\chi_{th}, \\chi_{exp}) = \\dfrac{\\text{Tr} (\\chi_{exp}\\chi_{th}^{\\dagger})}{\\sqrt{\\text{Tr}\\chi_{th}^{\\dagger}\\chi_{th} }\\sqrt{\\text{Tr}\\chi_{exp}^{\\dagger}\\chi_{exp}}}$$"
   ]
  },
  {
   "cell_type": "code",
   "execution_count": null,
   "id": "a392e585",
   "metadata": {},
   "outputs": [],
   "source": [
    "def fidelitychi(th_choi, exp_choi):\n",
    "    th = superoperator_transformations.choi2chi(th_choi)\n",
    "    exp = superoperator_transformations.choi2chi(exp_choi)\n",
    "    \n",
    "    return np.trace(exp * th.conj().T)/(np.sqrt(np.trace(th.conj().T*th))*np.sqrt(np.trace(exp.conj().T*exp)))"
   ]
  },
  {
   "cell_type": "markdown",
   "id": "71ec33c7",
   "metadata": {},
   "source": [
    "### X Gate"
   ]
  },
  {
   "cell_type": "code",
   "execution_count": null,
   "id": "5b580765",
   "metadata": {},
   "outputs": [],
   "source": [
    "xgateidealchoi = np.array([[0,0,0,0],\n",
    "                       [0,1,1,0],\n",
    "                       [0,1,1,0],\n",
    "                       [0,0,0,0]])\n"
   ]
  },
  {
   "cell_type": "code",
   "execution_count": null,
   "id": "2c17a114",
   "metadata": {},
   "outputs": [],
   "source": [
    "fidelitychi(xgateidealchoi, getchoi(results_realX))"
   ]
  },
  {
   "cell_type": "code",
   "execution_count": null,
   "id": "78a822f7",
   "metadata": {},
   "outputs": [],
   "source": [
    "dm.diamond_norm_distance(xgateidealchoi, getchoi(results_realX))"
   ]
  },
  {
   "cell_type": "markdown",
   "id": "9c013b67",
   "metadata": {},
   "source": [
    "### $\\sqrt{X}$ gate"
   ]
  },
  {
   "cell_type": "code",
   "execution_count": null,
   "id": "4ffee1fa",
   "metadata": {},
   "outputs": [],
   "source": [
    "sqrtxgateideal = np.array([[0.5,  0.5j,0.5j, 0.5],\n",
    "                       [-0.5j,0.5, 0.5, -0.5j],\n",
    "                       [-0.5j,0.5, 0.5, -0.5j],\n",
    "                       [0.5,  0.5j,0.5j, 0.5]])"
   ]
  },
  {
   "cell_type": "code",
   "execution_count": null,
   "id": "b76db3a0",
   "metadata": {},
   "outputs": [],
   "source": [
    "fidelitychi(sqrtxgateideal, getchoi(results_SqrtX_real))"
   ]
  },
  {
   "cell_type": "code",
   "execution_count": null,
   "id": "2b0723b0",
   "metadata": {},
   "outputs": [],
   "source": [
    "dm.diamond_norm_distance(sqrtxgateideal, getchoi(results_SqrtX_real))"
   ]
  },
  {
   "cell_type": "markdown",
   "id": "85e18632",
   "metadata": {},
   "source": [
    "### $Z$ gate"
   ]
  },
  {
   "cell_type": "code",
   "execution_count": null,
   "id": "9a066eaa",
   "metadata": {},
   "outputs": [],
   "source": [
    "zgateideal=np.array([[1,0,0,-1],\n",
    "                    [0,0,0,0],\n",
    "                    [0,0,0,0],\n",
    "                    [-1,0,0,1]])"
   ]
  },
  {
   "cell_type": "code",
   "execution_count": null,
   "id": "d6727500",
   "metadata": {},
   "outputs": [],
   "source": [
    "fidelitychi(zgateideal, getchoi(results_Z_real))"
   ]
  },
  {
   "cell_type": "code",
   "execution_count": null,
   "id": "e1194de6",
   "metadata": {},
   "outputs": [],
   "source": [
    "dm.diamond_norm_distance(zgateideal, getchoi(results_Z_real))"
   ]
  },
  {
   "cell_type": "markdown",
   "id": "ede4b07d",
   "metadata": {},
   "source": [
    "# Eigenvalues"
   ]
  },
  {
   "cell_type": "markdown",
   "id": "218d431e",
   "metadata": {},
   "source": [
    "### Z Gate"
   ]
  },
  {
   "cell_type": "code",
   "execution_count": null,
   "id": "782b365e",
   "metadata": {},
   "outputs": [],
   "source": [
    "np.linalg.eigvals(getchoi(results_Z_real)/2)"
   ]
  },
  {
   "cell_type": "markdown",
   "id": "5c4ffc51",
   "metadata": {},
   "source": [
    "### X Gate"
   ]
  },
  {
   "cell_type": "code",
   "execution_count": null,
   "id": "6c1f776a",
   "metadata": {},
   "outputs": [],
   "source": [
    "np.linalg.eigvals(getchoi(results_realX)/2)"
   ]
  },
  {
   "cell_type": "markdown",
   "id": "5075917f",
   "metadata": {},
   "source": [
    "### $\\sqrt{X}$ Gate"
   ]
  },
  {
   "cell_type": "code",
   "execution_count": null,
   "id": "5ece6cae",
   "metadata": {},
   "outputs": [],
   "source": [
    "np.linalg.eigvals(getchoi(results_SqrtX_real)/2)"
   ]
  },
  {
   "cell_type": "markdown",
   "id": "6f943d6b",
   "metadata": {},
   "source": [
    "### Identity gate"
   ]
  },
  {
   "cell_type": "code",
   "execution_count": 23,
   "id": "9cdad38e",
   "metadata": {},
   "outputs": [
    {
     "data": {
      "text/plain": [
       "array([ 0.99179658-3.46325463e-17j, -0.0885197 -3.54949746e-17j,\n",
       "        0.08897736-8.45309665e-18j,  0.00774576+7.45695504e-18j])"
      ]
     },
     "execution_count": 23,
     "metadata": {},
     "output_type": "execute_result"
    }
   ],
   "source": [
    "np.linalg.eigvals(getchoi(results_idreal)/2)"
   ]
  },
  {
   "cell_type": "markdown",
   "id": "8681bd2b",
   "metadata": {},
   "source": [
    "# Kraus Ops"
   ]
  },
  {
   "cell_type": "code",
   "execution_count": null,
   "id": "b3f5d5cf",
   "metadata": {},
   "outputs": [],
   "source": [
    "def print_kraus(superop):\n",
    "    kraus_ops = superoperator_transformations.choi2kraus(getchoi(np.round(superop,2))/2)\n",
    "    for op in kraus_ops:\n",
    "        print(op)"
   ]
  },
  {
   "cell_type": "markdown",
   "id": "ed7733c2",
   "metadata": {},
   "source": [
    "### Z Gate"
   ]
  },
  {
   "cell_type": "code",
   "execution_count": null,
   "id": "ff992d70",
   "metadata": {},
   "outputs": [],
   "source": [
    "# ideal gate\n",
    "print_kraus(results_Z)"
   ]
  },
  {
   "cell_type": "code",
   "execution_count": null,
   "id": "f8cf7c48",
   "metadata": {},
   "outputs": [],
   "source": [
    "# real gate\n",
    "print_kraus(results_Z_real)"
   ]
  },
  {
   "cell_type": "markdown",
   "id": "5c56eb4e",
   "metadata": {},
   "source": [
    "### X gate"
   ]
  },
  {
   "cell_type": "code",
   "execution_count": null,
   "id": "ee47862a",
   "metadata": {},
   "outputs": [],
   "source": [
    "# ideal gate\n",
    "print_kraus(results_X)"
   ]
  },
  {
   "cell_type": "code",
   "execution_count": null,
   "id": "a003c0b5",
   "metadata": {},
   "outputs": [],
   "source": [
    "# real gate\n",
    "print_kraus(results_realX)"
   ]
  },
  {
   "cell_type": "markdown",
   "id": "e4dc5a5d",
   "metadata": {},
   "source": [
    "### $\\sqrt{X}$ Gate"
   ]
  },
  {
   "cell_type": "code",
   "execution_count": null,
   "id": "7f863b11",
   "metadata": {},
   "outputs": [],
   "source": [
    "# ideal gate\n",
    "print_kraus(results_SqrtX)"
   ]
  },
  {
   "cell_type": "code",
   "execution_count": null,
   "id": "f2778bd0",
   "metadata": {},
   "outputs": [],
   "source": [
    "# real gate\n",
    "print_kraus(results_SqrtX_real)"
   ]
  },
  {
   "cell_type": "markdown",
   "id": "eb9e494b",
   "metadata": {},
   "source": [
    "## Noise Analysis\n",
    "\n",
    "In this section, we try to characterize the noise for each reconstructed gate. In particular, we are interested in seeing how similar the noise is between each gate. \n",
    "\n",
    "In general, a reconstructed gate, $\\bar{U}$ can be decomposed in terms of the ideal gate $U$ and the noise in the machine, $N_U$:\n",
    "\n",
    "<img src=\"diagrams/reconstructed_gate.png\" width=\"400\">.\n",
    "\n",
    "Using the superator representation, we have\n",
    "\n",
    "$$ S(N_U \\circ U ) = S(N_U) \\cdot S(U) = S(\\bar{U})$$\n",
    "\n",
    "Hence\n",
    "\n",
    "$$ S(N_U)  = S(\\bar{U}) \\cdot S^{-1}(U).$$\n",
    "\n",
    "We find $N_U$ for the gates we previously reconstructed:"
   ]
  },
  {
   "cell_type": "markdown",
   "id": "63909d72",
   "metadata": {},
   "source": [
    "## Z Gate"
   ]
  },
  {
   "cell_type": "code",
   "execution_count": null,
   "id": "c90589b1",
   "metadata": {},
   "outputs": [],
   "source": [
    "superopZ_reconstructed = superoperator_transformations.choi2superop(getchoi(results_Z))\n",
    "superopZ = superoperator_transformations.choi2superop(zgateideal)\n",
    "superopZ_inv = np.linalg.inv(superopZ)"
   ]
  },
  {
   "cell_type": "code",
   "execution_count": null,
   "id": "b3bf491f",
   "metadata": {},
   "outputs": [],
   "source": [
    "noise_Z = np.matmul(superopZ_reconstructed, superopZ_inv)"
   ]
  },
  {
   "cell_type": "markdown",
   "id": "1ef2cf10",
   "metadata": {},
   "source": [
    "As a superoperator"
   ]
  },
  {
   "cell_type": "code",
   "execution_count": null,
   "id": "f351570d",
   "metadata": {},
   "outputs": [],
   "source": [
    "qt.Qobj(np.round(noise_Z,3))"
   ]
  },
  {
   "cell_type": "markdown",
   "id": "ebcad40b",
   "metadata": {},
   "source": [
    "As a Choi matrix (unnormalizaed)"
   ]
  },
  {
   "cell_type": "code",
   "execution_count": null,
   "id": "340ad75c",
   "metadata": {},
   "outputs": [],
   "source": [
    "qt.Qobj(np.round(superoperator_transformations.superop2choi(noise_Z),3))"
   ]
  },
  {
   "cell_type": "markdown",
   "id": "3bad9964",
   "metadata": {},
   "source": [
    "## X Gate"
   ]
  },
  {
   "cell_type": "code",
   "execution_count": null,
   "id": "74260582",
   "metadata": {},
   "outputs": [],
   "source": [
    "superopX_reconstructed = superoperator_transformations.choi2superop(getchoi(results_X))\n",
    "superopX = superoperator_transformations.choi2superop(xgateidealchoi)\n",
    "superopX_inv = np.linalg.inv(superopX)"
   ]
  },
  {
   "cell_type": "code",
   "execution_count": null,
   "id": "7a8d5604",
   "metadata": {},
   "outputs": [],
   "source": [
    "noise_X = np.matmul(superopX_reconstructed, superopX_inv)"
   ]
  },
  {
   "cell_type": "code",
   "execution_count": null,
   "id": "d2e3dcf8",
   "metadata": {},
   "outputs": [],
   "source": [
    "qt.Qobj(np.round(noise_X,3))"
   ]
  },
  {
   "cell_type": "code",
   "execution_count": null,
   "id": "e8b86cbc",
   "metadata": {},
   "outputs": [],
   "source": [
    "qt.Qobj(np.round(superoperator_transformations.superop2choi(noise_X),3))"
   ]
  },
  {
   "cell_type": "markdown",
   "id": "416adbd3",
   "metadata": {},
   "source": [
    "## $\\sqrt{X}$ Gate"
   ]
  },
  {
   "cell_type": "code",
   "execution_count": null,
   "id": "8ef3f8f2",
   "metadata": {},
   "outputs": [],
   "source": [
    "superopSqrtX_reconstructed = superoperator_transformations.choi2superop(getchoi(results_SqrtX))\n",
    "superopSqrtX = superoperator_transformations.choi2superop(sqrtxgateideal)\n",
    "superopSqrtX_inv = np.linalg.inv(superopSqrtX)"
   ]
  },
  {
   "cell_type": "code",
   "execution_count": null,
   "id": "7e922e45",
   "metadata": {},
   "outputs": [],
   "source": [
    "noise_SqrtX = np.matmul(superopSqrtX_reconstructed, superopSqrtX_inv)"
   ]
  },
  {
   "cell_type": "code",
   "execution_count": null,
   "id": "2b09b679",
   "metadata": {},
   "outputs": [],
   "source": [
    "qt.Qobj(np.round(noise_SqrtX,3))"
   ]
  },
  {
   "cell_type": "code",
   "execution_count": null,
   "id": "1b15da1f",
   "metadata": {},
   "outputs": [],
   "source": [
    "qt.Qobj(np.round(superoperator_transformations.superop2choi(noise_SqrtX),3))"
   ]
  },
  {
   "cell_type": "code",
   "execution_count": null,
   "id": "9f4e3c35",
   "metadata": {},
   "outputs": [],
   "source": []
  }
 ],
 "metadata": {
  "kernelspec": {
   "display_name": "Python 3",
   "language": "python",
   "name": "python3"
  },
  "language_info": {
   "codemirror_mode": {
    "name": "ipython",
    "version": 3
   },
   "file_extension": ".py",
   "mimetype": "text/x-python",
   "name": "python",
   "nbconvert_exporter": "python",
   "pygments_lexer": "ipython3",
   "version": "3.8.8"
  }
 },
 "nbformat": 4,
 "nbformat_minor": 5
}
