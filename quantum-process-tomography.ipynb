{
 "cells": [
  {
   "cell_type": "code",
   "execution_count": 61,
   "id": "63f2b507",
   "metadata": {},
   "outputs": [],
   "source": [
    "import warnings\n",
    "warnings.filterwarnings(\"ignore\")"
   ]
  },
  {
   "cell_type": "markdown",
   "id": "ac0217ba",
   "metadata": {},
   "source": [
    "This is an old library I made to perform quantum state tomography. Since I made the library to be applicable to quantum optics, the measurements are in terms of polarization. You can still apply it in standard notation for quantum states:\n",
    "\n",
    "$Z$ basis\n",
    "$|H\\rangle = |0\\rangle$\n",
    "$|V\\rangle = |1\\rangle$\n",
    "\n",
    "$X$ basis\n",
    "$|+\\rangle = |D\\rangle$\n",
    "$|-\\rangle = |A\\rangle$\n",
    "\n",
    "$Y$ basis\n",
    "$|+i\\rangle = |L\\rangle$\n",
    "$|-i\\rangle = |R\\rangle$"
   ]
  },
  {
   "cell_type": "code",
   "execution_count": 2,
   "id": "3fe05c43",
   "metadata": {},
   "outputs": [],
   "source": [
    "import quantumstatetomo as qst\n",
    "import numpy as np\n",
    "import qutip as qt"
   ]
  },
  {
   "cell_type": "markdown",
   "id": "2baf0079",
   "metadata": {},
   "source": [
    "Initialize the quantum state tomography object. Here we use 1 qubit:"
   ]
  },
  {
   "cell_type": "code",
   "execution_count": 3,
   "id": "91388885",
   "metadata": {},
   "outputs": [],
   "source": [
    "n_qubits = 1\n",
    "tomo_object = qst.QubitTomo(n_qubits)"
   ]
  },
  {
   "cell_type": "markdown",
   "id": "426f1f85",
   "metadata": {},
   "source": [
    "We have to define which measurements were done. See the above comment to convert to the usual notation."
   ]
  },
  {
   "cell_type": "code",
   "execution_count": 4,
   "id": "8d35ae8b",
   "metadata": {},
   "outputs": [],
   "source": [
    "measurements = [\"H\", \"V\", \"D\", \"A\", \"L\", \"R\"]"
   ]
  },
  {
   "cell_type": "markdown",
   "id": "654cc8ac",
   "metadata": {},
   "source": [
    "Input the corresponding data for each of the measurement results"
   ]
  },
  {
   "cell_type": "markdown",
   "id": "6fecb625",
   "metadata": {},
   "source": [
    "# Tomography on input state $|0\\rangle$"
   ]
  },
  {
   "cell_type": "code",
   "execution_count": 117,
   "id": "efae05ea",
   "metadata": {},
   "outputs": [
    {
     "name": "stdout",
     "output_type": "stream",
     "text": [
      "Optimization terminated successfully    (Exit mode 0)\n",
      "            Current function value: 3.178095417401875e-09\n",
      "            Iterations: 7\n",
      "            Function evaluations: 38\n",
      "            Gradient evaluations: 7\n"
     ]
    },
    {
     "data": {
      "text/latex": [
       "Quantum object: dims = [[2], [2]], shape = (2, 2), type = oper, isherm = True\\begin{equation*}\\left(\\begin{array}{*{11}c}1.000 & (4.864\\times10^{-05}-3.655\\times10^{-05}j)\\\\(4.864\\times10^{-05}+3.655\\times10^{-05}j) & 4.846\\times10^{-09}\\\\\\end{array}\\right)\\end{equation*}"
      ],
      "text/plain": [
       "Quantum object: dims = [[2], [2]], shape = (2, 2), type = oper, isherm = True\n",
       "Qobj data =\n",
       "[[9.99999995e-01+0.00000000e+00j 4.86407046e-05-3.65546458e-05j]\n",
       " [4.86407046e-05+3.65546458e-05j 4.84643138e-09+0.00000000e+00j]]"
      ]
     },
     "execution_count": 117,
     "metadata": {},
     "output_type": "execute_result"
    }
   ],
   "source": [
    "counts_groud = np.array([1, 0, 0.5, 0.5, 0.5, 0.5])\n",
    "groundstate = tomo_object.qst_MLE(measurements, counts_groud)\n",
    "qt.Qobj(groundstate.matrix)"
   ]
  },
  {
   "cell_type": "markdown",
   "id": "62a73380",
   "metadata": {},
   "source": [
    "Now, we can do the same process on each state of interest:"
   ]
  },
  {
   "cell_type": "markdown",
   "id": "00741d2b",
   "metadata": {},
   "source": [
    "# Data"
   ]
  },
  {
   "cell_type": "code",
   "execution_count": 6,
   "id": "e28801b9",
   "metadata": {},
   "outputs": [],
   "source": [
    "# ideal Z\n",
    "counts_zero_Z = np.array([1, 0, 1/2, 1/2, 1/2, 1/2])\n",
    "counts_one_Z =  np.array([0, 1, 1/2, 1/2, 1/2, 1/2])\n",
    "counts_plus_Z = np.array([1/2, 1/2, 0, 1, 1/2, 1/2])\n",
    "counts_imag_Z = np.array([1/2, 1/2, 1/2, 1/2, 0, 1])\n",
    "\n",
    "counts_tot_Z = [counts_zero_Z,counts_one_Z,counts_plus_Z,counts_imag_Z]"
   ]
  },
  {
   "cell_type": "code",
   "execution_count": 7,
   "id": "c46c6339",
   "metadata": {},
   "outputs": [],
   "source": [
    "# ideal X\n",
    "counts_zero_X = np.array([0, 1, 1/2, 1/2, 1/2, 1/2])\n",
    "counts_one_X = np.array([1, 0, 1/2, 1/2, 1/2, 1/2])\n",
    "counts_plus_X = np.array([1/2, 1/2, 1, 0, 1/2, 1/2])\n",
    "counts_imag_X = np.array([1/2, 1/2, 1/2, 1/2, 0, 1])\n",
    "\n",
    "counts_tot_X = [counts_zero_X,counts_one_X,counts_plus_X,counts_imag_X]"
   ]
  },
  {
   "cell_type": "code",
   "execution_count": 8,
   "id": "0a771da4",
   "metadata": {},
   "outputs": [],
   "source": [
    "# ideal Sqrt X\n",
    "counts_zero_SqrtX = np.array([1/2,1/2, 1/2, 1/2, 0, 1])\n",
    "counts_one_SqrtX =  np.array([1/2, 1/2, 1/2, 1/2, 1,0])\n",
    "counts_plus_SqrtX = np.array([1/2, 1/2, 1, 0, 1/2, 1/2])\n",
    "counts_imag_SqrtX = np.array([1, 0, 1/2, 1/2, 1/2, 1/2])\n",
    "\n",
    "counts_tot_SqrtX = [counts_zero_SqrtX,counts_one_SqrtX,counts_plus_SqrtX,counts_imag_SqrtX]"
   ]
  },
  {
   "cell_type": "code",
   "execution_count": 9,
   "id": "391c9f9d",
   "metadata": {},
   "outputs": [],
   "source": [
    "# gate: Z\n",
    "counts_zero_real = np.array([1,0,0.5,0.5, 0.675088, 0.324911])\n",
    "counts_one_real = np.array([0, 0.992678, 0.595311, 0.505688, 0.325639, 0.67436])\n",
    "counts_plus_real = np.array([0.5, 0.5, 0,1, 0.5, 0.5])\n",
    "counts_imag_real=np.array([0.711812, 0.288187, 0.778007, 0.221992, 0, 1])\n",
    "\n",
    "counts_zero_Zreal=np.array([1,0, 0.590612, 0.409387, 0.585846, 0.415153])\n",
    "counts_one_Zreal =np.array([0.007163, 0.992836, 0.5, 0.5,0.482062,0.517937])\n",
    "counts_plus_Zreal = np.array([0.5,0.5,0,1,0.756525,0.243474])\n",
    "counts_imag_Zreal = np.array([0.294445, 0.705554, 0.729905, 0.270094, 0, 1])\n",
    "\n",
    "counts_tot_real=[counts_zero_Zreal,counts_one_Zreal,counts_plus_Zreal,counts_imag_Zreal]"
   ]
  },
  {
   "cell_type": "code",
   "execution_count": 10,
   "id": "1b82e0f0",
   "metadata": {},
   "outputs": [],
   "source": [
    "# gate: X\n",
    "counts_zero_real2=np.array([0,1, 0.392822,0.606177, 0.657176, 0.342823])\n",
    "counts_one_real2=np.array([1,0, 0.5,0.5,0.438488, 0.561511])\n",
    "counts_plus_real2 = np.array([0.5, 0.5, 0.014501, 0.985498, 0.552788, 0.447211])\n",
    "counts_imag_real2 = np.array([0.702849, 0.29715, 0.745083, 0.254916, 0.995911, 0.004088])\n",
    "\n",
    "counts_zero_Xreal2=np.array([0, 1, 0.5, 0.5, 0.5, 0.5])\n",
    "counts_one_Xreal2=np.array([1, 0, 0.5, 0.5, 0.5, 0.5])\n",
    "counts_plus_Xreal2 = np.array([0.5, 0.5, 1,0, 0.627134, 0.372865])\n",
    "counts_imag_Xreal2 = np.array([0.277033, 0.722966, 0.72134, 0.278569, 0, 1])\n",
    "\n",
    "\n",
    "counts_tot_Xreal2=[counts_zero_Xreal2,counts_one_Xreal2,counts_plus_Xreal2,counts_imag_Xreal2]"
   ]
  },
  {
   "cell_type": "code",
   "execution_count": 11,
   "id": "a9b9e73e",
   "metadata": {},
   "outputs": [],
   "source": [
    " # SQRT X (redo)\n",
    "counts_zero_SqrtXreal = np.array([0.304315, 0.695684, 0.793958, 0.206041, 0, 1])\n",
    "counts_one_SqrtXreal = np.array([0.748577, 0.251422, 0.281981, 0.718018, 1,0])\n",
    "counts_plus_SqrtXreal = np.array([0.5, 0.5,1,0,0.74518, 0.254981])\n",
    "counts_imag_SqrtXreal = np.array([1,0,0.5,0.5,0.5, 0.5])\n",
    "\n",
    "counts_tot_SqrtX_real = [counts_zero_SqrtXreal, counts_one_SqrtXreal, counts_plus_SqrtXreal, counts_imag_SqrtXreal]"
   ]
  },
  {
   "cell_type": "code",
   "execution_count": 12,
   "id": "d804202f",
   "metadata": {},
   "outputs": [],
   "source": [
    "# gate: Sqrt Y\n",
    "counts_zero_SqrtYreal= np.array([0.5, 0.5, 1,0, 0.632044, 0.367955])\n",
    "counts_one_SqrtYreal = np.array([0.5, 0.5, 0,1, 0.185172, 0.814827])\n",
    "counts_plus_SqrtYreal =np.array([0,1, 0.5, 0.5,0.5, 0.5])\n",
    "counts_imag_SqrtYreal=np.array([0, 1, 0.24758, 0.752419, 1,0])\n",
    "\n",
    "counts_tot_SqrtYreal = [counts_zero_SqrtYreal,counts_one_SqrtYreal,counts_plus_SqrtYreal,counts_imag_SqrtYreal]"
   ]
  },
  {
   "cell_type": "code",
   "execution_count": 13,
   "id": "f7cdacc9",
   "metadata": {},
   "outputs": [],
   "source": [
    "def get_tomoresults(counts, measurements):\n",
    "    tomo_results = []\n",
    "    for count in counts:\n",
    "        print(count)\n",
    "        tomo_object = qst.QubitTomo(n_qubits)\n",
    "        rho = tomo_object.qst_MLE(measurements, count)\n",
    "        tomo_results.append(np.array(rho.matrix))\n",
    "    return tomo_results"
   ]
  },
  {
   "cell_type": "markdown",
   "id": "6e618553",
   "metadata": {},
   "source": [
    "Now, we have reconstructed $\\mathcal{E}|0\\rangle\\langle 0|,\\space \\mathcal{E}|1\\rangle\\langle 1|, \\space\\mathcal{E}|+\\rangle\\langle +|,\\space \\mathcal{E}|i\\rangle\\langle i|$ .\n",
    "\n",
    "To get $\\mathcal{E}|0\\rangle\\langle 1|$, $\\mathcal{E}|1\\rangle\\langle 0|$, we do:\n",
    "\n",
    "$\\mathcal{E}|0\\rangle\\langle 1|$ = $\\mathcal{E}|+\\rangle\\langle +| + i\\mathcal{E}|i\\rangle\\langle i| - \\dfrac{1+i}{2}\\Big(\\mathcal{E}|0\\rangle\\langle 0|+\\mathcal{E}|1\\rangle\\langle 1|\\Big)$\n",
    "\n",
    "$\\mathcal{E}|1\\rangle\\langle 0|$ = $\\mathcal{E}|+\\rangle\\langle +| - i\\mathcal{E}|i\\rangle\\langle i| - \\dfrac{1-i}{2}\\Big(\\mathcal{E}|0\\rangle\\langle 0|+\\mathcal{E}|1\\rangle\\langle 1|\\Big)$"
   ]
  },
  {
   "cell_type": "code",
   "execution_count": 14,
   "id": "0a5fc161",
   "metadata": {},
   "outputs": [],
   "source": [
    "def getchoi(tomoresults):\n",
    "    zero = tomoresults[0]\n",
    "    one = tomoresults[1]\n",
    "    plus = tomoresults[2]\n",
    "    imag = tomoresults[3]\n",
    "    \n",
    "    choi00 = zero\n",
    "    choi11 = one\n",
    "    choi01 = plus + 1j * imag -(1+1j)*(zero + one)/2 \n",
    "    choi10 = plus - 1j * imag -(1-1j)*(zero + one)/2 \n",
    "    \n",
    "    choi = np.block([[choi00, choi01], \n",
    "                     [choi10, choi11]])\n",
    "    return choi"
   ]
  },
  {
   "cell_type": "markdown",
   "id": "3a38dce9",
   "metadata": {},
   "source": [
    "# Z Gate (ideal)"
   ]
  },
  {
   "cell_type": "code",
   "execution_count": 15,
   "id": "434f94bd",
   "metadata": {
    "collapsed": true
   },
   "outputs": [
    {
     "name": "stdout",
     "output_type": "stream",
     "text": [
      "[1.  0.  0.5 0.5 0.5 0.5]\n",
      "Optimization terminated successfully    (Exit mode 0)\n",
      "            Current function value: 3.178095417401875e-09\n",
      "            Iterations: 7\n",
      "            Function evaluations: 38\n",
      "            Gradient evaluations: 7\n",
      "[0.  1.  0.5 0.5 0.5 0.5]\n",
      "Optimization terminated successfully    (Exit mode 0)\n",
      "            Current function value: 3.2411893549180394e-06\n",
      "            Iterations: 9\n",
      "            Function evaluations: 48\n",
      "            Gradient evaluations: 9\n",
      "[0.5 0.5 0.  1.  0.5 0.5]\n",
      "Optimization terminated successfully    (Exit mode 0)\n",
      "            Current function value: 4.934254988407223e-07\n",
      "            Iterations: 23\n",
      "            Function evaluations: 119\n",
      "            Gradient evaluations: 23\n",
      "[0.5 0.5 0.5 0.5 0.  1. ]\n",
      "Optimization terminated successfully    (Exit mode 0)\n",
      "            Current function value: 7.897549969605133e-07\n",
      "            Iterations: 24\n",
      "            Function evaluations: 126\n",
      "            Gradient evaluations: 24\n"
     ]
    }
   ],
   "source": [
    "results_Z = get_tomoresults(counts_tot_Z, measurements)"
   ]
  },
  {
   "cell_type": "code",
   "execution_count": 16,
   "id": "0cee61e7",
   "metadata": {},
   "outputs": [
    {
     "data": {
      "text/latex": [
       "Quantum object: dims = [[4], [4]], shape = (4, 4), type = oper, isherm = True\\begin{equation*}\\left(\\begin{array}{*{11}c}1.0 & 0.0 & 0.0 & -1.0\\\\0.0 & 0.0 & 0.0 & 0.0\\\\0.0 & 0.0 & 0.0 & 0.0\\\\-1.0 & 0.0 & 0.0 & 1.0\\\\\\end{array}\\right)\\end{equation*}"
      ],
      "text/plain": [
       "Quantum object: dims = [[4], [4]], shape = (4, 4), type = oper, isherm = True\n",
       "Qobj data =\n",
       "[[ 1.  0.  0. -1.]\n",
       " [ 0.  0.  0.  0.]\n",
       " [ 0.  0.  0.  0.]\n",
       " [-1.  0.  0.  1.]]"
      ]
     },
     "execution_count": 16,
     "metadata": {},
     "output_type": "execute_result"
    }
   ],
   "source": [
    "tomo_object.display_rho(getchoi(np.round(results_Z, 1)))"
   ]
  },
  {
   "cell_type": "markdown",
   "id": "a35d8678",
   "metadata": {},
   "source": [
    "# Z Gate (Experiment)"
   ]
  },
  {
   "cell_type": "code",
   "execution_count": 18,
   "id": "4e33a9ca",
   "metadata": {
    "collapsed": true
   },
   "outputs": [
    {
     "name": "stdout",
     "output_type": "stream",
     "text": [
      "[1.       0.       0.590612 0.409387 0.585846 0.415153]\n",
      "Optimization terminated successfully    (Exit mode 0)\n",
      "            Current function value: 0.00048080793159194967\n",
      "            Iterations: 8\n",
      "            Function evaluations: 43\n",
      "            Gradient evaluations: 8\n",
      "[0.007163 0.992836 0.5      0.5      0.482062 0.517937]\n",
      "Optimization terminated successfully    (Exit mode 0)\n",
      "            Current function value: 3.289159401718926e-07\n",
      "            Iterations: 8\n",
      "            Function evaluations: 43\n",
      "            Gradient evaluations: 8\n",
      "[0.5      0.5      0.       1.       0.756525 0.243474]\n",
      "Optimization terminated successfully    (Exit mode 0)\n",
      "            Current function value: 0.0032838224112132722\n",
      "            Iterations: 17\n",
      "            Function evaluations: 90\n",
      "            Gradient evaluations: 17\n",
      "[0.294445 0.705554 0.729905 0.270094 0.       1.      ]\n",
      "Optimization terminated successfully    (Exit mode 0)\n",
      "            Current function value: 0.005707708967552744\n",
      "            Iterations: 17\n",
      "            Function evaluations: 92\n",
      "            Gradient evaluations: 17\n"
     ]
    }
   ],
   "source": [
    "results_Z_real = get_tomoresults(counts_tot_real, measurements)"
   ]
  },
  {
   "cell_type": "code",
   "execution_count": 19,
   "id": "c3fc9df2",
   "metadata": {
    "scrolled": true
   },
   "outputs": [
    {
     "data": {
      "text/latex": [
       "Quantum object: dims = [[4], [4]], shape = (4, 4), type = oper, isherm = True\\begin{equation*}\\left(\\begin{array}{*{11}c}0.984 & (0.084-0.077j) & (0.005-0.164j) & (-0.951-0.044j)\\\\(0.084+0.077j) & 0.016 & (-0.032+0.340j) & (-0.004+0.165j)\\\\(0.005+0.164j) & (-0.032-0.340j) & 0.007 & 0.018j\\\\(-0.951+0.044j) & (-0.004-0.165j) & -0.018j & 0.993\\\\\\end{array}\\right)\\end{equation*}"
      ],
      "text/plain": [
       "Quantum object: dims = [[4], [4]], shape = (4, 4), type = oper, isherm = True\n",
       "Qobj data =\n",
       "[[ 0.984 +0.j      0.084 -0.077j   0.0045-0.1645j -0.9505-0.0435j]\n",
       " [ 0.084 +0.077j   0.016 +0.j     -0.0315+0.3395j -0.0045+0.1645j]\n",
       " [ 0.0045+0.1645j -0.0315-0.3395j  0.007 +0.j      0.    +0.018j ]\n",
       " [-0.9505+0.0435j -0.0045-0.1645j  0.    -0.018j   0.993 +0.j    ]]"
      ]
     },
     "execution_count": 19,
     "metadata": {},
     "output_type": "execute_result"
    }
   ],
   "source": [
    "tomo_object.display_rho(getchoi(np.round(results_Z_real,3)))"
   ]
  },
  {
   "cell_type": "markdown",
   "id": "985f6099",
   "metadata": {},
   "source": [
    "# $\\sqrt{X}$ Gate (Ideal)"
   ]
  },
  {
   "cell_type": "code",
   "execution_count": 23,
   "id": "9bcb2116",
   "metadata": {
    "collapsed": true
   },
   "outputs": [
    {
     "name": "stdout",
     "output_type": "stream",
     "text": [
      "[0.5 0.5 0.5 0.5 0.  1. ]\n",
      "Optimization terminated successfully    (Exit mode 0)\n",
      "            Current function value: 7.897549969605133e-07\n",
      "            Iterations: 24\n",
      "            Function evaluations: 126\n",
      "            Gradient evaluations: 24\n",
      "[0.5 0.5 0.5 0.5 1.  0. ]\n",
      "Optimization terminated successfully    (Exit mode 0)\n",
      "            Current function value: 2.5428438449672457e-07\n",
      "            Iterations: 20\n",
      "            Function evaluations: 106\n",
      "            Gradient evaluations: 20\n",
      "[0.5 0.5 1.  0.  0.5 0.5]\n",
      "Optimization terminated successfully    (Exit mode 0)\n",
      "            Current function value: 4.0683414475116035e-07\n",
      "            Iterations: 19\n",
      "            Function evaluations: 100\n",
      "            Gradient evaluations: 19\n",
      "[1.  0.  0.5 0.5 0.5 0.5]\n",
      "Optimization terminated successfully    (Exit mode 0)\n",
      "            Current function value: 3.178095417401875e-09\n",
      "            Iterations: 7\n",
      "            Function evaluations: 38\n",
      "            Gradient evaluations: 7\n"
     ]
    }
   ],
   "source": [
    "results_SqrtX = get_tomoresults(counts_tot_SqrtX, measurements)"
   ]
  },
  {
   "cell_type": "code",
   "execution_count": 24,
   "id": "02dd78a1",
   "metadata": {},
   "outputs": [
    {
     "data": {
      "text/latex": [
       "Quantum object: dims = [[4], [4]], shape = (4, 4), type = oper, isherm = True\\begin{equation*}\\left(\\begin{array}{*{11}c}0.500 & 0.500j & 0.500j & 0.500\\\\-0.500j & 0.500 & 0.500 & -0.500j\\\\-0.500j & 0.500 & 0.500 & -0.500j\\\\0.500 & 0.500j & 0.500j & 0.500\\\\\\end{array}\\right)\\end{equation*}"
      ],
      "text/plain": [
       "Quantum object: dims = [[4], [4]], shape = (4, 4), type = oper, isherm = True\n",
       "Qobj data =\n",
       "[[0.5+0.j  0. +0.5j 0. +0.5j 0.5+0.j ]\n",
       " [0. -0.5j 0.5+0.j  0.5+0.j  0. -0.5j]\n",
       " [0. -0.5j 0.5+0.j  0.5+0.j  0. -0.5j]\n",
       " [0.5+0.j  0. +0.5j 0. +0.5j 0.5+0.j ]]"
      ]
     },
     "execution_count": 24,
     "metadata": {},
     "output_type": "execute_result"
    }
   ],
   "source": [
    "tomo_object.display_rho(getchoi(np.round(results_SqrtX, 2)))"
   ]
  },
  {
   "cell_type": "markdown",
   "id": "7a610747",
   "metadata": {},
   "source": [
    "# $\\sqrt{X}$ Gate (Experiment)"
   ]
  },
  {
   "cell_type": "code",
   "execution_count": 26,
   "id": "daac167a",
   "metadata": {
    "collapsed": true
   },
   "outputs": [
    {
     "name": "stdout",
     "output_type": "stream",
     "text": [
      "[0.304315 0.695684 0.793958 0.206041 0.       1.      ]\n",
      "Optimization terminated successfully    (Exit mode 0)\n",
      "            Current function value: 0.00868518444291737\n",
      "            Iterations: 15\n",
      "            Function evaluations: 82\n",
      "            Gradient evaluations: 15\n",
      "[0.748577 0.251422 0.281981 0.718018 1.       0.      ]\n",
      "Optimization terminated successfully    (Exit mode 0)\n",
      "            Current function value: 0.007068399062168506\n",
      "            Iterations: 15\n",
      "            Function evaluations: 79\n",
      "            Gradient evaluations: 15\n",
      "[0.5      0.5      1.       0.       0.74518  0.254981]\n",
      "Optimization terminated successfully    (Exit mode 0)\n",
      "            Current function value: 0.0028536038364116796\n",
      "            Iterations: 17\n",
      "            Function evaluations: 90\n",
      "            Gradient evaluations: 17\n",
      "[1.  0.  0.5 0.5 0.5 0.5]\n",
      "Optimization terminated successfully    (Exit mode 0)\n",
      "            Current function value: 3.178095417401875e-09\n",
      "            Iterations: 7\n",
      "            Function evaluations: 38\n",
      "            Gradient evaluations: 7\n"
     ]
    }
   ],
   "source": [
    "results_SqrtX_real = get_tomoresults(counts_tot_SqrtX_real, measurements)"
   ]
  },
  {
   "cell_type": "code",
   "execution_count": 27,
   "id": "3abc1cd4",
   "metadata": {},
   "outputs": [
    {
     "data": {
      "text/latex": [
       "Quantum object: dims = [[4], [4]], shape = (4, 4), type = oper, isherm = True\\begin{equation*}\\left(\\begin{array}{*{11}c}0.340 & (0.240+0.410j) & (-0.020+0.480j) & (0.415-0.235j)\\\\(0.240-0.410j) & 0.660 & (0.425+0.175j) & (0.020-0.480j)\\\\(-0.020-0.480j) & (0.425-0.175j) & 0.700 & (-0.180-0.420j)\\\\(0.415+0.235j) & (0.020+0.480j) & (-0.180+0.420j) & 0.300\\\\\\end{array}\\right)\\end{equation*}"
      ],
      "text/plain": [
       "Quantum object: dims = [[4], [4]], shape = (4, 4), type = oper, isherm = True\n",
       "Qobj data =\n",
       "[[ 0.34 +0.j     0.24 +0.41j  -0.02 +0.48j   0.415-0.235j]\n",
       " [ 0.24 -0.41j   0.66 +0.j     0.425+0.175j  0.02 -0.48j ]\n",
       " [-0.02 -0.48j   0.425-0.175j  0.7  +0.j    -0.18 -0.42j ]\n",
       " [ 0.415+0.235j  0.02 +0.48j  -0.18 +0.42j   0.3  +0.j   ]]"
      ]
     },
     "execution_count": 27,
     "metadata": {},
     "output_type": "execute_result"
    }
   ],
   "source": [
    "tomo_object.display_rho(getchoi(np.round(results_SqrtX_real, 2)))"
   ]
  },
  {
   "cell_type": "markdown",
   "id": "54cdb6c5",
   "metadata": {},
   "source": [
    "# X Gate (Ideal)"
   ]
  },
  {
   "cell_type": "code",
   "execution_count": 29,
   "id": "47abee7b",
   "metadata": {
    "collapsed": true
   },
   "outputs": [
    {
     "name": "stdout",
     "output_type": "stream",
     "text": [
      "[0.  1.  0.5 0.5 0.5 0.5]\n",
      "Optimization terminated successfully    (Exit mode 0)\n",
      "            Current function value: 3.2411893549180394e-06\n",
      "            Iterations: 9\n",
      "            Function evaluations: 48\n",
      "            Gradient evaluations: 9\n",
      "[1.  0.  0.5 0.5 0.5 0.5]\n",
      "Optimization terminated successfully    (Exit mode 0)\n",
      "            Current function value: 3.178095417401875e-09\n",
      "            Iterations: 7\n",
      "            Function evaluations: 38\n",
      "            Gradient evaluations: 7\n",
      "[0.5 0.5 1.  0.  0.5 0.5]\n",
      "Optimization terminated successfully    (Exit mode 0)\n",
      "            Current function value: 4.0683414475116035e-07\n",
      "            Iterations: 19\n",
      "            Function evaluations: 100\n",
      "            Gradient evaluations: 19\n",
      "[0.5 0.5 0.5 0.5 0.  1. ]\n",
      "Optimization terminated successfully    (Exit mode 0)\n",
      "            Current function value: 7.897549969605133e-07\n",
      "            Iterations: 24\n",
      "            Function evaluations: 126\n",
      "            Gradient evaluations: 24\n"
     ]
    }
   ],
   "source": [
    "results_X = get_tomoresults(counts_tot_X, measurements)"
   ]
  },
  {
   "cell_type": "code",
   "execution_count": 30,
   "id": "d51b17a1",
   "metadata": {},
   "outputs": [
    {
     "data": {
      "text/latex": [
       "Quantum object: dims = [[4], [4]], shape = (4, 4), type = oper, isherm = True\\begin{equation*}\\left(\\begin{array}{*{11}c}0.0 & 0.0 & 0.0 & 0.0\\\\0.0 & 1.0 & 1.0 & 0.0\\\\0.0 & 1.0 & 1.0 & 0.0\\\\0.0 & 0.0 & 0.0 & 0.0\\\\\\end{array}\\right)\\end{equation*}"
      ],
      "text/plain": [
       "Quantum object: dims = [[4], [4]], shape = (4, 4), type = oper, isherm = True\n",
       "Qobj data =\n",
       "[[0. 0. 0. 0.]\n",
       " [0. 1. 1. 0.]\n",
       " [0. 1. 1. 0.]\n",
       " [0. 0. 0. 0.]]"
      ]
     },
     "execution_count": 30,
     "metadata": {},
     "output_type": "execute_result"
    }
   ],
   "source": [
    "tomo_object.display_rho(getchoi(np.round(results_X, 2)))"
   ]
  },
  {
   "cell_type": "markdown",
   "id": "020f7f20",
   "metadata": {},
   "source": [
    "# X Gate (Experiment)"
   ]
  },
  {
   "cell_type": "code",
   "execution_count": 32,
   "id": "b486acda",
   "metadata": {
    "collapsed": true
   },
   "outputs": [
    {
     "name": "stdout",
     "output_type": "stream",
     "text": [
      "[0.  1.  0.5 0.5 0.5 0.5]\n",
      "Optimization terminated successfully    (Exit mode 0)\n",
      "            Current function value: 3.2411893549180394e-06\n",
      "            Iterations: 9\n",
      "            Function evaluations: 48\n",
      "            Gradient evaluations: 9\n",
      "[1.  0.  0.5 0.5 0.5 0.5]\n",
      "Optimization terminated successfully    (Exit mode 0)\n",
      "            Current function value: 3.178095417401875e-09\n",
      "            Iterations: 7\n",
      "            Function evaluations: 38\n",
      "            Gradient evaluations: 7\n",
      "[0.5      0.5      1.       0.       0.627134 0.372865]\n",
      "Optimization terminated successfully    (Exit mode 0)\n",
      "            Current function value: 0.0003918419947090619\n",
      "            Iterations: 19\n",
      "            Function evaluations: 102\n",
      "            Gradient evaluations: 19\n",
      "[0.277033 0.722966 0.72134  0.278569 0.       1.      ]\n",
      "Optimization terminated successfully    (Exit mode 0)\n",
      "            Current function value: 0.006043781551607801\n",
      "            Iterations: 17\n",
      "            Function evaluations: 92\n",
      "            Gradient evaluations: 17\n"
     ]
    }
   ],
   "source": [
    "results_realX = get_tomoresults(counts_tot_Xreal2, measurements)"
   ]
  },
  {
   "cell_type": "code",
   "execution_count": 33,
   "id": "b06c8557",
   "metadata": {},
   "outputs": [
    {
     "data": {
      "text/latex": [
       "Quantum object: dims = [[4], [4]], shape = (4, 4), type = oper, isherm = True\\begin{equation*}\\left(\\begin{array}{*{11}c}0.001 & 0.001 & (-0.001-0.183j) & (0.057+0.062j)\\\\0.001 & 0.999 & (0.913+0.300j) & (0.002+0.184j)\\\\(-0.001+0.183j) & (0.913-0.300j) & 1.0 & 0.0\\\\(0.057-0.062j) & (0.002-0.184j) & 0.0 & 0.0\\\\\\end{array}\\right)\\end{equation*}"
      ],
      "text/plain": [
       "Quantum object: dims = [[4], [4]], shape = (4, 4), type = oper, isherm = True\n",
       "Qobj data =\n",
       "[[ 0.001 +0.j      0.001 +0.j     -0.0015-0.1835j  0.0575+0.0625j]\n",
       " [ 0.001 +0.j      0.999 +0.j      0.9135+0.3005j  0.0015+0.1835j]\n",
       " [-0.0015+0.1835j  0.9135-0.3005j  1.    +0.j      0.    +0.j    ]\n",
       " [ 0.0575-0.0625j  0.0015-0.1835j  0.    +0.j      0.    +0.j    ]]"
      ]
     },
     "execution_count": 33,
     "metadata": {},
     "output_type": "execute_result"
    }
   ],
   "source": [
    "tomo_object.display_rho(getchoi(np.round(results_realX, 3)))"
   ]
  },
  {
   "cell_type": "markdown",
   "id": "cce779f0",
   "metadata": {},
   "source": [
    "# Fidelity of choi matricies (using diamond norm)"
   ]
  },
  {
   "cell_type": "code",
   "execution_count": 35,
   "id": "5d933cf8",
   "metadata": {},
   "outputs": [],
   "source": [
    "from qutip.metrics import dnorm"
   ]
  },
  {
   "cell_type": "code",
   "execution_count": 60,
   "id": "f43cd99a",
   "metadata": {},
   "outputs": [],
   "source": [
    "import forest.benchmarking.distance_measures as dm"
   ]
  },
  {
   "cell_type": "markdown",
   "id": "71ec33c7",
   "metadata": {},
   "source": [
    "### X Gate"
   ]
  },
  {
   "cell_type": "code",
   "execution_count": 65,
   "id": "e3cda9f6",
   "metadata": {},
   "outputs": [
    {
     "data": {
      "text/plain": [
       "0.26868045527572715"
      ]
     },
     "execution_count": 65,
     "metadata": {},
     "output_type": "execute_result"
    }
   ],
   "source": [
    "dm.diamond_norm_distance(getchoi(results_X)/2, getchoi(results_realX)/2)"
   ]
  },
  {
   "cell_type": "markdown",
   "id": "9c013b67",
   "metadata": {},
   "source": [
    "### $\\sqrt{X}$ gate"
   ]
  },
  {
   "cell_type": "code",
   "execution_count": 68,
   "id": "55bbd691",
   "metadata": {},
   "outputs": [
    {
     "data": {
      "text/plain": [
       "0.29581216134581634"
      ]
     },
     "execution_count": 68,
     "metadata": {},
     "output_type": "execute_result"
    }
   ],
   "source": [
    "dm.diamond_norm_distance(getchoi(results_SqrtX)/2, getchoi(results_SqrtX_real)/2)"
   ]
  },
  {
   "cell_type": "markdown",
   "id": "85e18632",
   "metadata": {},
   "source": [
    "### $Z$ gate"
   ]
  },
  {
   "cell_type": "code",
   "execution_count": 70,
   "id": "cbe597c6",
   "metadata": {},
   "outputs": [
    {
     "data": {
      "text/plain": [
       "0.2848357094213949"
      ]
     },
     "execution_count": 70,
     "metadata": {},
     "output_type": "execute_result"
    }
   ],
   "source": [
    "dm.diamond_norm_distance(getchoi(results_Z)/2, getchoi(results_Z_real)/2)"
   ]
  },
  {
   "cell_type": "markdown",
   "id": "ede4b07d",
   "metadata": {},
   "source": [
    "# Eigenvalues"
   ]
  },
  {
   "cell_type": "markdown",
   "id": "218d431e",
   "metadata": {},
   "source": [
    "### Z Gate"
   ]
  },
  {
   "cell_type": "code",
   "execution_count": 112,
   "id": "782b365e",
   "metadata": {},
   "outputs": [
    {
     "data": {
      "text/plain": [
       "array([ 0.97427697-6.77589189e-19j, -0.20694481+1.62129551e-17j,\n",
       "        0.03258238+1.01895368e-17j,  0.20008546-2.22554557e-17j])"
      ]
     },
     "execution_count": 112,
     "metadata": {},
     "output_type": "execute_result"
    }
   ],
   "source": [
    "np.linalg.eigvals(getchoi(results_Z_real)/2)"
   ]
  },
  {
   "cell_type": "markdown",
   "id": "5c4ffc51",
   "metadata": {},
   "source": [
    "### X Gate"
   ]
  },
  {
   "cell_type": "code",
   "execution_count": 109,
   "id": "6c1f776a",
   "metadata": {},
   "outputs": [
    {
     "data": {
      "text/plain": [
       "array([ 0.98930633-1.46691332e-17j, -0.10076908+1.10349652e-17j,\n",
       "        0.10157445+1.02051604e-17j,  0.0098883 +1.42456893e-17j])"
      ]
     },
     "execution_count": 109,
     "metadata": {},
     "output_type": "execute_result"
    }
   ],
   "source": [
    "np.linalg.eigvals(getchoi(results_realX)/2)"
   ]
  },
  {
   "cell_type": "markdown",
   "id": "5075917f",
   "metadata": {},
   "source": [
    "### $\\sqrt{X}$ Gate"
   ]
  },
  {
   "cell_type": "code",
   "execution_count": 111,
   "id": "5ece6cae",
   "metadata": {},
   "outputs": [
    {
     "data": {
      "text/plain": [
       "array([ 0.96485201-7.80231778e-17j, -0.0842588 +3.57355681e-18j,\n",
       "        0.00536512-1.60892643e-17j,  0.11404167+3.33264479e-19j])"
      ]
     },
     "execution_count": 111,
     "metadata": {},
     "output_type": "execute_result"
    }
   ],
   "source": [
    "np.linalg.eigvals(getchoi(results_SqrtX_real)/2)"
   ]
  },
  {
   "cell_type": "markdown",
   "id": "8681bd2b",
   "metadata": {},
   "source": [
    "# Kraus Ops"
   ]
  },
  {
   "cell_type": "code",
   "execution_count": 77,
   "id": "8872a539",
   "metadata": {},
   "outputs": [],
   "source": [
    "from forest.benchmarking.operator_tools import superoperator_transformations"
   ]
  },
  {
   "cell_type": "code",
   "execution_count": 86,
   "id": "b3f5d5cf",
   "metadata": {},
   "outputs": [],
   "source": [
    "def print_kraus(superop):\n",
    "    kraus_ops = superoperator_transformations.choi2kraus(getchoi(np.round(superop,2))/2)\n",
    "    for op in kraus_ops:\n",
    "        print(op)"
   ]
  },
  {
   "cell_type": "markdown",
   "id": "ed7733c2",
   "metadata": {},
   "source": [
    "### Z Gate"
   ]
  },
  {
   "cell_type": "code",
   "execution_count": 90,
   "id": "ff992d70",
   "metadata": {},
   "outputs": [
    {
     "name": "stdout",
     "output_type": "stream",
     "text": [
      "[[-0.70710678+0.j  0.        +0.j]\n",
      " [ 0.        +0.j  0.70710678+0.j]]\n"
     ]
    }
   ],
   "source": [
    "# ideal gate\n",
    "print_kraus(results_Z)"
   ]
  },
  {
   "cell_type": "code",
   "execution_count": 89,
   "id": "f8cf7c48",
   "metadata": {},
   "outputs": [
    {
     "name": "stdout",
     "output_type": "stream",
     "text": [
      "[[-0.        -0.13469881j -0.25232705-0.1415563j ]\n",
      " [-0.19908473+0.22334512j -0.0288187 -0.11750438j]]\n",
      "[[-0.10306612+0.j          0.07519169-0.02095963j]\n",
      " [-0.05379833+0.0081078j  -0.10681141-0.00345945j]]\n",
      "[[ 0.12245466+0.j          0.26486852+0.1001523j ]\n",
      " [-0.07699263+0.29863268j  0.11069208-0.01850548j]]\n",
      "[[-0.69464091+0.j          0.0044875 -0.04907212j]\n",
      " [-0.01986494+0.03246253j  0.69638239-0.02595252j]]\n"
     ]
    }
   ],
   "source": [
    "# real gate\n",
    "print_kraus(results_Z_real)"
   ]
  },
  {
   "cell_type": "markdown",
   "id": "5c56eb4e",
   "metadata": {},
   "source": [
    "### X gate"
   ]
  },
  {
   "cell_type": "code",
   "execution_count": 91,
   "id": "ee47862a",
   "metadata": {},
   "outputs": [
    {
     "name": "stdout",
     "output_type": "stream",
     "text": [
      "[[0.        +0.j 0.70710678+0.j]\n",
      " [0.70710678+0.j 0.        +0.j]]\n"
     ]
    }
   ],
   "source": [
    "# ideal gate\n",
    "print_kraus(results_X)"
   ]
  },
  {
   "cell_type": "code",
   "execution_count": 93,
   "id": "a003c0b5",
   "metadata": {},
   "outputs": [
    {
     "name": "stdout",
     "output_type": "stream",
     "text": [
      "[[-0.        -0.18164719j -0.12692534+0.03751237j]\n",
      " [ 0.13222119-0.00589723j  0.05919442+0.17173153j]]\n",
      "[[-0.07034179+0.j         -0.0289167 +0.00710829j]\n",
      " [ 0.02591493+0.01466697j -0.06771819-0.01903191j]]\n",
      "[[-0.15433964+0.j          0.06836509-0.1417591j ]\n",
      " [-0.09960248+0.12185555j  0.06520673+0.13988855j]]\n",
      "[[-0.06501545+0.j         -0.02619955-0.70083855j]\n",
      " [ 0.1919312 -0.6745543j  -0.06315446-0.01544418j]]\n"
     ]
    }
   ],
   "source": [
    "# real gate\n",
    "print_kraus(results_realX)"
   ]
  },
  {
   "cell_type": "markdown",
   "id": "e4dc5a5d",
   "metadata": {},
   "source": [
    "### $\\sqrt{X}$ Gate"
   ]
  },
  {
   "cell_type": "code",
   "execution_count": 94,
   "id": "7f863b11",
   "metadata": {},
   "outputs": [
    {
     "name": "stdout",
     "output_type": "stream",
     "text": [
      "[[ 5.00000000e-01+0.00000000e+00j -2.77555756e-17-5.00000000e-01j]\n",
      " [ 2.22044605e-16-5.00000000e-01j  5.00000000e-01-2.77555756e-17j]]\n"
     ]
    }
   ],
   "source": [
    "# ideal gate\n",
    "print_kraus(results_SqrtX)"
   ]
  },
  {
   "cell_type": "code",
   "execution_count": 95,
   "id": "f2778bd0",
   "metadata": {},
   "outputs": [
    {
     "name": "stdout",
     "output_type": "stream",
     "text": [
      "[[-0.        -0.1925391j   0.00535202-0.03320337j]\n",
      " [-0.00232366-0.01198852j -0.13774549+0.15734546j]]\n",
      "[[ 0.01771949+0.j          0.00151202+0.01215338j]\n",
      " [-0.01347833+0.01007371j  0.01049701+0.01227113j]]\n",
      "[[ 0.05459298+0.j         -0.24514327+0.05313463j]\n",
      " [ 0.19901998+0.10125021j  0.00232509+0.03224004j]]\n",
      "[[-0.45141658+0.j         -0.02159703+0.53627994j]\n",
      " [-0.24740339+0.4677574j  -0.39185958-0.19715955j]]\n"
     ]
    }
   ],
   "source": [
    "# real gate\n",
    "print_kraus(results_SqrtX_real)"
   ]
  },
  {
   "cell_type": "code",
   "execution_count": null,
   "id": "2488a662",
   "metadata": {},
   "outputs": [],
   "source": []
  }
 ],
 "metadata": {
  "kernelspec": {
   "display_name": "Python 3",
   "language": "python",
   "name": "python3"
  },
  "language_info": {
   "codemirror_mode": {
    "name": "ipython",
    "version": 3
   },
   "file_extension": ".py",
   "mimetype": "text/x-python",
   "name": "python",
   "nbconvert_exporter": "python",
   "pygments_lexer": "ipython3",
   "version": "3.8.8"
  }
 },
 "nbformat": 4,
 "nbformat_minor": 5
}
