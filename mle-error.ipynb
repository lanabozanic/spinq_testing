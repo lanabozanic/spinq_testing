{
 "cells": [
  {
   "cell_type": "code",
   "execution_count": 132,
   "id": "d58b8f0b",
   "metadata": {},
   "outputs": [],
   "source": [
    "#import quantumstatetomo as qst\n",
    "import numpy as np\n",
    "import qutip as qt"
   ]
  },
  {
   "cell_type": "code",
   "execution_count": 133,
   "id": "e68e0037",
   "metadata": {},
   "outputs": [],
   "source": [
    "from quantumtomo import tomography"
   ]
  },
  {
   "cell_type": "code",
   "execution_count": 134,
   "id": "d06e4610",
   "metadata": {},
   "outputs": [
    {
     "data": {
      "text/plain": [
       "<module 'quantumtomo.tomography' from '/Users/lanabozanic/Characterizing SpinQ quantum computer/quantumtomo/tomography.py'>"
      ]
     },
     "execution_count": 134,
     "metadata": {},
     "output_type": "execute_result"
    }
   ],
   "source": [
    "tomography"
   ]
  },
  {
   "cell_type": "code",
   "execution_count": 135,
   "id": "af10adda",
   "metadata": {},
   "outputs": [],
   "source": [
    "counts_zero_Z = np.array([1, 0, 0.5, 0.5, 1/2, 1/2]) * 100\n",
    "counts_one_Z = np.array([0, 1, 1/2, 1/2, 1/2, 1/2])\n",
    "counts_plus_Z = np.array([1/2, 1/2, 1, 0, 1/2, 1/2])\n",
    "counts_imag_Z = np.array([1/2, 1/2, 1/2, 1/2, 1, 0])\n",
    "\n",
    "measurements = [\"H\", \"V\", \"D\", \"A\", \"L\", \"R\"]"
   ]
  },
  {
   "cell_type": "code",
   "execution_count": 136,
   "id": "ace07e29",
   "metadata": {},
   "outputs": [],
   "source": [
    "tomo_object = tomography.QubitTomo(1)\n",
    "rhoZero = tomo_object.qst_MLE(measurements, counts_zero_Z)\n",
    "rhoOne = tomo_object.qst_MLE(measurements, counts_one_Z)\n",
    "rhoPlus = tomo_object.qst_MLE(measurements, counts_plus_Z)\n",
    "rhoImag = tomo_object.qst_MLE(measurements, counts_imag_Z)"
   ]
  },
  {
   "cell_type": "code",
   "execution_count": 150,
   "id": "6c88b7a1",
   "metadata": {},
   "outputs": [
    {
     "data": {
      "text/plain": [
       "      fun: 3.6864276834201776e-12\n",
       " hess_inv: <4x4 LbfgsInvHessProduct with dtype=float64>\n",
       "      jac: array([ 3.09288087e-07, -4.53155028e-06,  1.91689656e-06,  2.73552476e-06])\n",
       "  message: 'CONVERGENCE: NORM_OF_PROJECTED_GRADIENT_<=_PGTOL'\n",
       "     nfev: 40\n",
       "      nit: 7\n",
       "     njev: 8\n",
       "   status: 0\n",
       "  success: True\n",
       "        x: array([ 5.37995498e-02, -1.40464910e-06,  3.30770719e-01,  4.70138295e-01])"
      ]
     },
     "execution_count": 150,
     "metadata": {},
     "output_type": "execute_result"
    }
   ],
   "source": [
    "rhoZero"
   ]
  },
  {
   "cell_type": "code",
   "execution_count": 149,
   "id": "8067a249",
   "metadata": {},
   "outputs": [
    {
     "data": {
      "text/latex": [
       "Quantum object: dims = [[4], [4]], shape = (4, 4), type = oper, isherm = True\\begin{equation*}\\left(\\begin{array}{*{11}c}0.992 & 0.007 & -0.050 & -0.071\\\\0.007 & 0.308 & 4.422\\times10^{-04} & -0.001\\\\-0.050 & 4.422\\times10^{-04} & 0.701 & -0.425\\\\-0.071 & -0.001 & -0.425 & 0.397\\\\\\end{array}\\right)\\end{equation*}"
      ],
      "text/plain": [
       "Quantum object: dims = [[4], [4]], shape = (4, 4), type = oper, isherm = True\n",
       "Qobj data =\n",
       "[[ 9.91513028e-01  7.13732325e-03 -4.98071573e-02 -7.06461788e-02]\n",
       " [ 7.13732325e-03  3.08077919e-01  4.42153156e-04 -1.02062385e-03]\n",
       " [-4.98071573e-02  4.42153156e-04  7.00832148e-01 -4.24690034e-01]\n",
       " [-7.06461788e-02 -1.02062385e-03 -4.24690034e-01  3.97092135e-01]]"
      ]
     },
     "execution_count": 149,
     "metadata": {},
     "output_type": "execute_result"
    }
   ],
   "source": [
    "M = rhoZero.hess_inv\n",
    "M = M * np.identity(M.shape[1])  # numpy array\n",
    "qt.Qobj(M)"
   ]
  },
  {
   "cell_type": "code",
   "execution_count": 138,
   "id": "9edb439d",
   "metadata": {},
   "outputs": [
    {
     "data": {
      "text/plain": [
       "array([0.99574747, 0.55504767, 0.83715718, 0.63015247])"
      ]
     },
     "execution_count": 138,
     "metadata": {},
     "output_type": "execute_result"
    }
   ],
   "source": [
    "np.sqrt(np.diag(M))"
   ]
  },
  {
   "cell_type": "code",
   "execution_count": 139,
   "id": "6d25aa7d",
   "metadata": {},
   "outputs": [
    {
     "data": {
      "text/plain": [
       "array([0.99574747, 0.55504767, 0.83715718, 0.63015247])"
      ]
     },
     "execution_count": 139,
     "metadata": {},
     "output_type": "execute_result"
    }
   ],
   "source": [
    "np.sqrt(np.diag(M))"
   ]
  },
  {
   "cell_type": "code",
   "execution_count": 140,
   "id": "99318843",
   "metadata": {},
   "outputs": [
    {
     "data": {
      "text/plain": [
       "array([0.99151303, 0.30807792, 0.70083215, 0.39709213])"
      ]
     },
     "execution_count": 140,
     "metadata": {},
     "output_type": "execute_result"
    }
   ],
   "source": [
    "np.diag(M)"
   ]
  },
  {
   "cell_type": "code",
   "execution_count": 141,
   "id": "0a63ea94",
   "metadata": {},
   "outputs": [
    {
     "data": {
      "text/latex": [
       "Quantum object: dims = [[2], [2]], shape = (2, 2), type = oper, isherm = True\\begin{equation*}\\left(\\begin{array}{*{11}c}1.000 & (-1.394\\times10^{-06}+1.981\\times10^{-06}j)\\\\(-1.394\\times10^{-06}-1.981\\times10^{-06}j) & 5.919\\times10^{-12}\\\\\\end{array}\\right)\\end{equation*}"
      ],
      "text/plain": [
       "Quantum object: dims = [[2], [2]], shape = (2, 2), type = oper, isherm = True\n",
       "Qobj data =\n",
       "[[ 1.00000000e+00+0.00000000e+00j -1.39384894e-06+1.98113596e-06j]\n",
       " [-1.39384894e-06-1.98113596e-06j  5.91911121e-12+0.00000000e+00j]]"
      ]
     },
     "execution_count": 141,
     "metadata": {},
     "output_type": "execute_result"
    }
   ],
   "source": [
    "def density(minimized):\n",
    "    \n",
    "    T = tomography.create_t_matrix(1,2,minimized.x)\n",
    "    density_matrix = 1/np.trace(np.matmul(T.H, T)) * np.matmul(T.H, T)\n",
    "    return density_matrix\n",
    "\n",
    "qt.Qobj(density(rhoZero))"
   ]
  },
  {
   "cell_type": "code",
   "execution_count": 142,
   "id": "03351b27",
   "metadata": {},
   "outputs": [],
   "source": [
    "def density_error(minimized):\n",
    "    M = minimized.hess_inv\n",
    "    M = M * np.identity(M.shape[1])  # numpy array\n",
    "    pm = np.sqrt(np.diag(M))\n",
    "    print(pm)\n",
    "    \n",
    "    T1 = tomography.create_t_matrix(1,2,minimized.x + pm)\n",
    "    T2 = tomography.create_t_matrix(1,2,minimized.x - pm)\n",
    "    err = tomography.create_t_matrix(1,2,pm)\n",
    "    \n",
    "    density_matrix1 = (1/np.trace(np.matmul(T1.H, T1))) * np.matmul(T1.H, T1)\n",
    "    density_matrix2 = (1/np.trace(np.matmul(T2.H, T2))) * np.matmul(T2.H, T2)\n",
    "    errdensity = 1/np.trace(np.matmul(err.H, err)) * np.matmul(err.H, err)\n",
    "    return density_matrix1, density_matrix2, errdensity"
   ]
  },
  {
   "cell_type": "code",
   "execution_count": 143,
   "id": "4c94aad8",
   "metadata": {},
   "outputs": [],
   "source": [
    "rho = rhoOne"
   ]
  },
  {
   "cell_type": "code",
   "execution_count": 144,
   "id": "66707e5d",
   "metadata": {},
   "outputs": [
    {
     "data": {
      "text/latex": [
       "Quantum object: dims = [[2], [2]], shape = (2, 2), type = oper, isherm = True\\begin{equation*}\\left(\\begin{array}{*{11}c}1.088\\times10^{-06} & (4.087\\times10^{-07}-9.930\\times10^{-06}j)\\\\(4.087\\times10^{-07}+9.930\\times10^{-06}j) & 1.000\\\\\\end{array}\\right)\\end{equation*}"
      ],
      "text/plain": [
       "Quantum object: dims = [[2], [2]], shape = (2, 2), type = oper, isherm = True\n",
       "Qobj data =\n",
       "[[1.08773919e-06+0.00000000e+00j 4.08689753e-07-9.92996431e-06j]\n",
       " [4.08689753e-07+9.92996431e-06j 9.99998912e-01+0.00000000e+00j]]"
      ]
     },
     "execution_count": 144,
     "metadata": {},
     "output_type": "execute_result"
    }
   ],
   "source": [
    "qt.Qobj(density(rho))"
   ]
  },
  {
   "cell_type": "code",
   "execution_count": 145,
   "id": "52df6104",
   "metadata": {},
   "outputs": [
    {
     "name": "stdout",
     "output_type": "stream",
     "text": [
      "[11.3348265   0.28475047  0.50823259  0.62592761]\n"
     ]
    },
    {
     "data": {
      "text/latex": [
       "Quantum object: dims = [[2], [2]], shape = (2, 2), type = oper, isherm = True\\begin{equation*}\\left(\\begin{array}{*{11}c}0.994 & (0.003-0.004j)\\\\(0.003+0.004j) & 0.006\\\\\\end{array}\\right)\\end{equation*}"
      ],
      "text/plain": [
       "Quantum object: dims = [[2], [2]], shape = (2, 2), type = oper, isherm = True\n",
       "Qobj data =\n",
       "[[0.99427789+0.j         0.00337334-0.00415457j]\n",
       " [0.00337334+0.00415457j 0.00572211+0.j        ]]"
      ]
     },
     "execution_count": 145,
     "metadata": {},
     "output_type": "execute_result"
    }
   ],
   "source": [
    "qt.Qobj(density_error(rho)[0])"
   ]
  },
  {
   "cell_type": "code",
   "execution_count": 146,
   "id": "74d73eab",
   "metadata": {},
   "outputs": [
    {
     "name": "stdout",
     "output_type": "stream",
     "text": [
      "[11.3348265   0.28475047  0.50823259  0.62592761]\n"
     ]
    },
    {
     "data": {
      "text/latex": [
       "Quantum object: dims = [[2], [2]], shape = (2, 2), type = oper, isherm = True\\begin{equation*}\\left(\\begin{array}{*{11}c}0.999 & (-0.001+0.001j)\\\\(-0.001-0.001j) & 6.626\\times10^{-04}\\\\\\end{array}\\right)\\end{equation*}"
      ],
      "text/plain": [
       "Quantum object: dims = [[2], [2]], shape = (2, 2), type = oper, isherm = True\n",
       "Qobj data =\n",
       "[[ 9.99337351e-01+0.j         -1.15099184e-03+0.00141752j]\n",
       " [-1.15099184e-03-0.00141752j  6.62648944e-04+0.j        ]]"
      ]
     },
     "execution_count": 146,
     "metadata": {},
     "output_type": "execute_result"
    }
   ],
   "source": [
    "qt.Qobj(density_error(rho)[1])"
   ]
  },
  {
   "cell_type": "code",
   "execution_count": 147,
   "id": "beb2f724",
   "metadata": {},
   "outputs": [
    {
     "name": "stdout",
     "output_type": "stream",
     "text": [
      "[11.3348265   0.28475047  0.50823259  0.62592761]\n"
     ]
    },
    {
     "data": {
      "text/latex": [
       "Quantum object: dims = [[2], [2]], shape = (2, 2), type = oper, isherm = True\\begin{equation*}\\left(\\begin{array}{*{11}c}0.999 & (0.001-0.001j)\\\\(0.001+0.001j) & 6.275\\times10^{-04}\\\\\\end{array}\\right)\\end{equation*}"
      ],
      "text/plain": [
       "Quantum object: dims = [[2], [2]], shape = (2, 2), type = oper, isherm = True\n",
       "Qobj data =\n",
       "[[9.99372470e-01+0.j         1.12003770e-03-0.00137941j]\n",
       " [1.12003770e-03+0.00137941j 6.27530118e-04+0.j        ]]"
      ]
     },
     "execution_count": 147,
     "metadata": {},
     "output_type": "execute_result"
    }
   ],
   "source": [
    "qt.Qobj(density_error(rho)[2])"
   ]
  },
  {
   "cell_type": "code",
   "execution_count": null,
   "id": "6c931e43",
   "metadata": {},
   "outputs": [],
   "source": []
  },
  {
   "cell_type": "code",
   "execution_count": null,
   "id": "12090e09",
   "metadata": {},
   "outputs": [],
   "source": []
  },
  {
   "cell_type": "code",
   "execution_count": null,
   "id": "a52cb7cc",
   "metadata": {},
   "outputs": [],
   "source": []
  },
  {
   "cell_type": "code",
   "execution_count": 56,
   "id": "6c6cfa2c",
   "metadata": {},
   "outputs": [
    {
     "data": {
      "text/latex": [
       "Quantum object: dims = [[2], [2]], shape = (2, 2), type = oper, isherm = True\\begin{equation*}\\left(\\begin{array}{*{11}c}0.500 & (0.500-7.570\\times10^{-06}j)\\\\(0.500+7.570\\times10^{-06}j) & 0.500\\\\\\end{array}\\right)\\end{equation*}"
      ],
      "text/plain": [
       "Quantum object: dims = [[2], [2]], shape = (2, 2), type = oper, isherm = True\n",
       "Qobj data =\n",
       "[[0.49998798+0.00000000e+00j 0.49999789-7.56980905e-06j]\n",
       " [0.49999789+7.56980905e-06j 0.50001202+0.00000000e+00j]]"
      ]
     },
     "execution_count": 56,
     "metadata": {},
     "output_type": "execute_result"
    }
   ],
   "source": [
    "qt.Qobj(density(rhoPlus))"
   ]
  },
  {
   "cell_type": "code",
   "execution_count": 55,
   "id": "fd4d53ad",
   "metadata": {},
   "outputs": [
    {
     "data": {
      "text/latex": [
       "Quantum object: dims = [[2], [2]], shape = (2, 2), type = oper, isherm = True\\begin{equation*}\\left(\\begin{array}{*{11}c}0.500 & (1.317\\times10^{-05}-0.500j)\\\\(1.317\\times10^{-05}+0.500j) & 0.500\\\\\\end{array}\\right)\\end{equation*}"
      ],
      "text/plain": [
       "Quantum object: dims = [[2], [2]], shape = (2, 2), type = oper, isherm = True\n",
       "Qobj data =\n",
       "[[4.99971997e-01+0.j         1.31680442e-05-0.49999367j]\n",
       " [1.31680442e-05+0.49999367j 5.00028003e-01+0.j        ]]"
      ]
     },
     "execution_count": 55,
     "metadata": {},
     "output_type": "execute_result"
    }
   ],
   "source": [
    "qt.Qobj(density(rhoImag))"
   ]
  },
  {
   "cell_type": "code",
   "execution_count": 148,
   "id": "b80944fc",
   "metadata": {},
   "outputs": [
    {
     "ename": "LinAlgError",
     "evalue": "0-dimensional array given. Array must be at least two-dimensional",
     "output_type": "error",
     "traceback": [
      "\u001b[0;31m---------------------------------------------------------------------------\u001b[0m",
      "\u001b[0;31mLinAlgError\u001b[0m                               Traceback (most recent call last)",
      "\u001b[0;32m<ipython-input-148-e7e3514080bd>\u001b[0m in \u001b[0;36m<module>\u001b[0;34m\u001b[0m\n\u001b[0;32m----> 1\u001b[0;31m \u001b[0mnp\u001b[0m\u001b[0;34m.\u001b[0m\u001b[0mlinalg\u001b[0m\u001b[0;34m.\u001b[0m\u001b[0meigvals\u001b[0m\u001b[0;34m(\u001b[0m\u001b[0mrhoZero\u001b[0m\u001b[0;34m)\u001b[0m\u001b[0;34m\u001b[0m\u001b[0;34m\u001b[0m\u001b[0m\n\u001b[0m",
      "\u001b[0;32m<__array_function__ internals>\u001b[0m in \u001b[0;36meigvals\u001b[0;34m(*args, **kwargs)\u001b[0m\n",
      "\u001b[0;32m~/opt/anaconda3/lib/python3.8/site-packages/numpy/linalg/linalg.py\u001b[0m in \u001b[0;36meigvals\u001b[0;34m(a)\u001b[0m\n\u001b[1;32m   1058\u001b[0m     \"\"\"\n\u001b[1;32m   1059\u001b[0m     \u001b[0ma\u001b[0m\u001b[0;34m,\u001b[0m \u001b[0mwrap\u001b[0m \u001b[0;34m=\u001b[0m \u001b[0m_makearray\u001b[0m\u001b[0;34m(\u001b[0m\u001b[0ma\u001b[0m\u001b[0;34m)\u001b[0m\u001b[0;34m\u001b[0m\u001b[0;34m\u001b[0m\u001b[0m\n\u001b[0;32m-> 1060\u001b[0;31m     \u001b[0m_assert_stacked_2d\u001b[0m\u001b[0;34m(\u001b[0m\u001b[0ma\u001b[0m\u001b[0;34m)\u001b[0m\u001b[0;34m\u001b[0m\u001b[0;34m\u001b[0m\u001b[0m\n\u001b[0m\u001b[1;32m   1061\u001b[0m     \u001b[0m_assert_stacked_square\u001b[0m\u001b[0;34m(\u001b[0m\u001b[0ma\u001b[0m\u001b[0;34m)\u001b[0m\u001b[0;34m\u001b[0m\u001b[0;34m\u001b[0m\u001b[0m\n\u001b[1;32m   1062\u001b[0m     \u001b[0m_assert_finite\u001b[0m\u001b[0;34m(\u001b[0m\u001b[0ma\u001b[0m\u001b[0;34m)\u001b[0m\u001b[0;34m\u001b[0m\u001b[0;34m\u001b[0m\u001b[0m\n",
      "\u001b[0;32m~/opt/anaconda3/lib/python3.8/site-packages/numpy/linalg/linalg.py\u001b[0m in \u001b[0;36m_assert_stacked_2d\u001b[0;34m(*arrays)\u001b[0m\n\u001b[1;32m    194\u001b[0m     \u001b[0;32mfor\u001b[0m \u001b[0ma\u001b[0m \u001b[0;32min\u001b[0m \u001b[0marrays\u001b[0m\u001b[0;34m:\u001b[0m\u001b[0;34m\u001b[0m\u001b[0;34m\u001b[0m\u001b[0m\n\u001b[1;32m    195\u001b[0m         \u001b[0;32mif\u001b[0m \u001b[0ma\u001b[0m\u001b[0;34m.\u001b[0m\u001b[0mndim\u001b[0m \u001b[0;34m<\u001b[0m \u001b[0;36m2\u001b[0m\u001b[0;34m:\u001b[0m\u001b[0;34m\u001b[0m\u001b[0;34m\u001b[0m\u001b[0m\n\u001b[0;32m--> 196\u001b[0;31m             raise LinAlgError('%d-dimensional array given. Array must be '\n\u001b[0m\u001b[1;32m    197\u001b[0m                     'at least two-dimensional' % a.ndim)\n\u001b[1;32m    198\u001b[0m \u001b[0;34m\u001b[0m\u001b[0m\n",
      "\u001b[0;31mLinAlgError\u001b[0m: 0-dimensional array given. Array must be at least two-dimensional"
     ]
    }
   ],
   "source": [
    "np.linalg.eigvals(rhoZero)"
   ]
  },
  {
   "cell_type": "code",
   "execution_count": 152,
   "id": "4f360dbc",
   "metadata": {},
   "outputs": [
    {
     "data": {
      "text/latex": [
       "Quantum object: dims = [[2], [2]], shape = (2, 2), type = oper, isherm = True\\begin{equation*}\\left(\\begin{array}{*{11}c}1.000 & (-1.394\\times10^{-06}+1.981\\times10^{-06}j)\\\\(-1.394\\times10^{-06}-1.981\\times10^{-06}j) & 5.919\\times10^{-12}\\\\\\end{array}\\right)\\end{equation*}"
      ],
      "text/plain": [
       "Quantum object: dims = [[2], [2]], shape = (2, 2), type = oper, isherm = True\n",
       "Qobj data =\n",
       "[[ 1.00000000e+00+0.00000000e+00j -1.39384894e-06+1.98113596e-06j]\n",
       " [-1.39384894e-06-1.98113596e-06j  5.91911121e-12+0.00000000e+00j]]"
      ]
     },
     "execution_count": 152,
     "metadata": {},
     "output_type": "execute_result"
    }
   ],
   "source": [
    "qt.Qobj(density(rhoZero))"
   ]
  },
  {
   "cell_type": "code",
   "execution_count": 153,
   "id": "cfd5b09b",
   "metadata": {},
   "outputs": [
    {
     "data": {
      "text/plain": [
       "array([1.00000000e+00+5.12949727e-28j, 5.13966237e-14-5.12949727e-28j])"
      ]
     },
     "execution_count": 153,
     "metadata": {},
     "output_type": "execute_result"
    }
   ],
   "source": [
    "np.linalg.eigvals(density(rhoZero))"
   ]
  },
  {
   "cell_type": "code",
   "execution_count": null,
   "id": "290de64e",
   "metadata": {},
   "outputs": [],
   "source": [
    "qutip.metrics"
   ]
  }
 ],
 "metadata": {
  "kernelspec": {
   "display_name": "Python 3",
   "language": "python",
   "name": "python3"
  },
  "language_info": {
   "codemirror_mode": {
    "name": "ipython",
    "version": 3
   },
   "file_extension": ".py",
   "mimetype": "text/x-python",
   "name": "python",
   "nbconvert_exporter": "python",
   "pygments_lexer": "ipython3",
   "version": "3.8.8"
  }
 },
 "nbformat": 4,
 "nbformat_minor": 5
}
