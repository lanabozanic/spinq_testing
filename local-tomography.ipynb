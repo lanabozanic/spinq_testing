{
 "cells": [
  {
   "cell_type": "code",
   "execution_count": 15,
   "id": "e7323023",
   "metadata": {},
   "outputs": [],
   "source": [
    "import numpy as np\n",
    "import quantumstatetomo as qst\n",
    "import qutip as qt"
   ]
  },
  {
   "cell_type": "code",
   "execution_count": 9,
   "id": "7db52433",
   "metadata": {},
   "outputs": [],
   "source": [
    "# H + CNOT\n",
    "\n",
    "counts_zero = np.array([0.409187, 0.590812, 0.321129, 0.67887, 0.164688, 0.835311])\n",
    "counts_one =  np.array([0.60398, 0.396019, 0.397557, 0.602442,0.841656, 0.158343])\n",
    "counts_plus = np.array([0.936076, 0.063923, 0.574012, 0.425987, 0.334107, 0.665892])\n",
    "counts_imag = np.array([0.634242, 0.365757, 0.15505, 0.844949, 0.325507, 0.674492])\n",
    "\n",
    "counts_tot = [counts_zero,counts_one,counts_plus,counts_imag]"
   ]
  },
  {
   "cell_type": "code",
   "execution_count": 22,
   "id": "d2dedc2d",
   "metadata": {},
   "outputs": [],
   "source": [
    "#\n",
    "\n",
    "counts_zero_2 = np.array([0.49583, 0.504169, 0.35281, 0.647189, 0.266082, 0.733917])\n",
    "counts_one_2 = np.array([0.549369, 0.45063, 0.663609, 0.33639, 0.74711, 0.252889])\n",
    "counts_plus_2 = np.array([1,0, 0.671602, 0.328297, 0.361787, 0.638212])\n",
    "counts_imag_2 = np.array([0.405441, 0.594558, 0.368493, 0.631506,0.489009, 0.51099])\n",
    "\n",
    "counts_tot_2 = [counts_zero_2,counts_one_2,counts_plus_2,counts_imag_2]"
   ]
  },
  {
   "cell_type": "code",
   "execution_count": 26,
   "id": "0245537a",
   "metadata": {},
   "outputs": [],
   "source": [
    "counts_zero_3 = np.array([0.767911, 0.232088, 0.674457, 0.325542, 0.422445, 0.577554])\n",
    "counts_one_3 = np.array([1, 0, 0.200244, 0.799755, 0.894938, 0.105061])\n",
    "counts_plus_3 = np.array([1,0,0.200286, 0.799713,0.516899, 0.4831])\n",
    "counts_imag_3 = np.array([0.752027, 0.247972, 0.913053, 0.086946, 0.844621, 0.155378])\n",
    "\n",
    "counts_tot_3 = [counts_zero_3,counts_one_3,counts_plus_3,counts_imag_3]"
   ]
  },
  {
   "cell_type": "code",
   "execution_count": 33,
   "id": "d097f853",
   "metadata": {},
   "outputs": [],
   "source": [
    "counts_zero_4 = np.array([0, 1, 0.34958, 0.650419, 0.943377, 0.056622])\n",
    "counts_one_4 = np.array([0.949644, 0.050355, 0.437943, 0.562056, 0.087649, 0.91235])\n",
    "counts_plus_4 = np.array([0.112714, 0.88785, 0.362745, 0.637254, 0.25193, 0.748069])\n",
    "counts_imag_4 = np.array([0.619688,0.380311, 0.000745, 0.999254,0.470386, 0.529613])\n",
    "\n",
    "counts_tot_4 = [counts_zero_4,counts_one_4,counts_plus_4,counts_imag_4]"
   ]
  },
  {
   "cell_type": "code",
   "execution_count": 10,
   "id": "977289bc",
   "metadata": {},
   "outputs": [],
   "source": [
    "measurements = [\"H\", \"V\", \"D\", \"A\", \"L\", \"R\"]"
   ]
  },
  {
   "cell_type": "code",
   "execution_count": 11,
   "id": "4557fab9",
   "metadata": {},
   "outputs": [],
   "source": [
    "def get_tomoresults(counts, measurements):\n",
    "    tomo_results = []\n",
    "    for count in counts:\n",
    "        print(count)\n",
    "        tomo_object = qst.QubitTomo(n_qubits)\n",
    "        rho = tomo_object.qst_MLE(measurements, count)\n",
    "        tomo_results.append(np.array(rho.matrix))\n",
    "    return tomo_results\n",
    "\n",
    "def getchoi(tomoresults):\n",
    "    zero = tomoresults[0]\n",
    "    one = tomoresults[1]\n",
    "    plus = tomoresults[2]\n",
    "    imag = tomoresults[3]\n",
    "    \n",
    "    choi00 = zero\n",
    "    choi11 = one\n",
    "    choi01 = plus + 1j * imag -(1+1j)*(zero + one)/2 \n",
    "    choi10 = plus - 1j * imag -(1-1j)*(zero + one)/2 \n",
    "    \n",
    "    choi = np.block([[choi00, choi01], \n",
    "                     [choi10, choi11]])\n",
    "    return choi"
   ]
  },
  {
   "cell_type": "code",
   "execution_count": 13,
   "id": "e8ed0b25",
   "metadata": {
    "collapsed": true
   },
   "outputs": [
    {
     "name": "stdout",
     "output_type": "stream",
     "text": [
      "[0.409187 0.590812 0.321129 0.67887  0.164688 0.835311]\n",
      "Optimization terminated successfully    (Exit mode 0)\n",
      "            Current function value: 6.751792183611316e-09\n",
      "            Iterations: 16\n",
      "            Function evaluations: 84\n",
      "            Gradient evaluations: 16\n",
      "[0.60398  0.396019 0.397557 0.602442 0.841656 0.158343]\n",
      "Optimization terminated successfully    (Exit mode 0)\n",
      "            Current function value: 4.1159726857368415e-08\n",
      "            Iterations: 15\n",
      "            Function evaluations: 79\n",
      "            Gradient evaluations: 15\n",
      "[0.936076 0.063923 0.574012 0.425987 0.334107 0.665892]\n",
      "Optimization terminated successfully    (Exit mode 0)\n",
      "            Current function value: 1.4050419744541945e-08\n",
      "            Iterations: 36\n",
      "            Function evaluations: 190\n",
      "            Gradient evaluations: 36\n",
      "[0.634242 0.365757 0.15505  0.844949 0.325507 0.674492]\n",
      "Optimization terminated successfully    (Exit mode 0)\n",
      "            Current function value: 5.429885164592964e-07\n",
      "            Iterations: 36\n",
      "            Function evaluations: 193\n",
      "            Gradient evaluations: 36\n"
     ]
    }
   ],
   "source": [
    "n_qubits = 1\n",
    "tomo_object = qst.QubitTomo(n_qubits)\n",
    "results = get_tomoresults(counts_tot, measurements)"
   ]
  },
  {
   "cell_type": "code",
   "execution_count": 17,
   "id": "e2bbb402",
   "metadata": {},
   "outputs": [
    {
     "data": {
      "text/latex": [
       "Quantum object: dims = [[4], [4]], shape = (4, 4), type = oper, isherm = True\\begin{equation*}\\left(\\begin{array}{*{11}c}0.409 & (-0.179+0.335j) & (0.429+0.128j) & (0.036-0.035j)\\\\(-0.179-0.335j) & 0.591 & (0.393-0.374j) & (-0.429-0.128j)\\\\(0.429-0.128j) & (0.393+0.374j) & 0.604 & (-0.102-0.342j)\\\\(0.036+0.035j) & (-0.429+0.128j) & (-0.102+0.342j) & 0.396\\\\\\end{array}\\right)\\end{equation*}"
      ],
      "text/plain": [
       "Quantum object: dims = [[4], [4]], shape = (4, 4), type = oper, isherm = True\n",
       "Qobj data =\n",
       "[[ 0.40927308+0.j         -0.17890741+0.33533278j  0.42943005+0.12818434j\n",
       "   0.03618968-0.0353906j ]\n",
       " [-0.17890741-0.33533278j  0.59072692+0.j          0.39282022-0.3737685j\n",
       "  -0.42943005-0.12818434j]\n",
       " [ 0.42943005-0.12818434j  0.39282022+0.3737685j   0.60397944+0.j\n",
       "  -0.10216977-0.34165837j]\n",
       " [ 0.03618968+0.0353906j  -0.42943005+0.12818434j -0.10216977+0.34165837j\n",
       "   0.39602056+0.j        ]]"
      ]
     },
     "execution_count": 17,
     "metadata": {},
     "output_type": "execute_result"
    }
   ],
   "source": [
    "qt.Qobj(getchoi(results))"
   ]
  },
  {
   "cell_type": "code",
   "execution_count": 21,
   "id": "ad70c872",
   "metadata": {},
   "outputs": [
    {
     "data": {
      "text/plain": [
       "array([ 0.821-0.j, -0.112-0.j,  0.232+0.j,  0.058-0.j])"
      ]
     },
     "execution_count": 21,
     "metadata": {},
     "output_type": "execute_result"
    }
   ],
   "source": [
    "np.round(np.linalg.eigvals(getchoi(results)/2),3)"
   ]
  },
  {
   "cell_type": "code",
   "execution_count": 23,
   "id": "dd8d77af",
   "metadata": {
    "collapsed": true
   },
   "outputs": [
    {
     "name": "stdout",
     "output_type": "stream",
     "text": [
      "[0.49583  0.504169 0.35281  0.647189 0.266082 0.733917]\n",
      "Optimization terminated successfully    (Exit mode 0)\n",
      "            Current function value: 1.2069594707660258e-08\n",
      "            Iterations: 15\n",
      "            Function evaluations: 81\n",
      "            Gradient evaluations: 15\n",
      "[0.549369 0.45063  0.663609 0.33639  0.74711  0.252889]\n",
      "Optimization terminated successfully    (Exit mode 0)\n",
      "            Current function value: 4.073919458302343e-09\n",
      "            Iterations: 12\n",
      "            Function evaluations: 64\n",
      "            Gradient evaluations: 12\n",
      "[1.       0.       0.671602 0.328297 0.361787 0.638212]\n",
      "Optimization terminated successfully    (Exit mode 0)\n",
      "            Current function value: 0.0020668011381706703\n",
      "            Iterations: 26\n",
      "            Function evaluations: 135\n",
      "            Gradient evaluations: 26\n",
      "[0.405441 0.594558 0.368493 0.631506 0.489009 0.51099 ]\n",
      "Optimization terminated successfully    (Exit mode 0)\n",
      "            Current function value: 4.983444685062541e-09\n",
      "            Iterations: 14\n",
      "            Function evaluations: 76\n",
      "            Gradient evaluations: 14\n"
     ]
    }
   ],
   "source": [
    "results_2 = get_tomoresults(counts_tot_2, measurements)"
   ]
  },
  {
   "cell_type": "code",
   "execution_count": 24,
   "id": "b2674e1b",
   "metadata": {},
   "outputs": [
    {
     "data": {
      "text/latex": [
       "Quantum object: dims = [[4], [4]], shape = (4, 4), type = oper, isherm = True\\begin{equation*}\\left(\\begin{array}{*{11}c}0.496 & (-0.147+0.234j) & (0.438-0.117j) & (0.125-0.012j)\\\\(-0.147-0.234j) & 0.504 & (0.160-0.267j) & (-0.438+0.117j)\\\\(0.438+0.117j) & (0.160+0.267j) & 0.549 & (0.164-0.247j)\\\\(0.125+0.012j) & (-0.438-0.117j) & (0.164+0.247j) & 0.451\\\\\\end{array}\\right)\\end{equation*}"
      ],
      "text/plain": [
       "Quantum object: dims = [[4], [4]], shape = (4, 4), type = oper, isherm = True\n",
       "Qobj data =\n",
       "[[ 0.49578292+0.j         -0.1473205 +0.23387284j  0.43841651-0.11708434j\n",
       "   0.12492603-0.0122998j ]\n",
       " [-0.1473205 -0.23387284j  0.50421708+0.j          0.16026292-0.26694321j\n",
       "  -0.43841651+0.11708434j]\n",
       " [ 0.43841651+0.11708434j  0.16026292+0.26694321j  0.54936795+0.j\n",
       "   0.16365619-0.24713462j]\n",
       " [ 0.12492603+0.0122998j  -0.43841651-0.11708434j  0.16365619+0.24713462j\n",
       "   0.45063205+0.j        ]]"
      ]
     },
     "execution_count": 24,
     "metadata": {},
     "output_type": "execute_result"
    }
   ],
   "source": [
    "qt.Qobj(getchoi(results_2))"
   ]
  },
  {
   "cell_type": "code",
   "execution_count": 25,
   "id": "dc88e52d",
   "metadata": {},
   "outputs": [
    {
     "data": {
      "text/plain": [
       "array([ 0.677-0.j, -0.126-0.j,  0.125+0.j,  0.324+0.j])"
      ]
     },
     "execution_count": 25,
     "metadata": {},
     "output_type": "execute_result"
    }
   ],
   "source": [
    "np.round(np.linalg.eigvals(getchoi(results_2)/2),3)"
   ]
  },
  {
   "cell_type": "code",
   "execution_count": 29,
   "id": "3824e818",
   "metadata": {
    "collapsed": true
   },
   "outputs": [
    {
     "name": "stdout",
     "output_type": "stream",
     "text": [
      "[0.767911 0.232088 0.674457 0.325542 0.422445 0.577554]\n",
      "Optimization terminated successfully    (Exit mode 0)\n",
      "            Current function value: 6.337367644219877e-07\n",
      "            Iterations: 24\n",
      "            Function evaluations: 125\n",
      "            Gradient evaluations: 24\n",
      "[1.       0.       0.200244 0.799755 0.894938 0.105061]\n",
      "Optimization terminated successfully    (Exit mode 0)\n",
      "            Current function value: 0.024914302995708137\n",
      "            Iterations: 16\n",
      "            Function evaluations: 85\n",
      "            Gradient evaluations: 16\n",
      "[1.       0.       0.200286 0.799713 0.516899 0.4831  ]\n",
      "Optimization terminated successfully    (Exit mode 0)\n",
      "            Current function value: 0.005336115572628766\n",
      "            Iterations: 30\n",
      "            Function evaluations: 155\n",
      "            Gradient evaluations: 30\n",
      "[0.752027 0.247972 0.913053 0.086946 0.844621 0.155378]\n",
      "Optimization terminated successfully    (Exit mode 0)\n",
      "            Current function value: 0.005340243566526313\n",
      "            Iterations: 16\n",
      "            Function evaluations: 83\n",
      "            Gradient evaluations: 16\n"
     ]
    }
   ],
   "source": [
    "results_3 = get_tomoresults(counts_tot_3, measurements)"
   ]
  },
  {
   "cell_type": "code",
   "execution_count": 30,
   "id": "fca4dfa3",
   "metadata": {},
   "outputs": [
    {
     "data": {
      "text/latex": [
       "Quantum object: dims = [[4], [4]], shape = (4, 4), type = oper, isherm = True\\begin{equation*}\\left(\\begin{array}{*{11}c}0.768 & (0.175+0.077j) & (0.120-0.103j) & (-0.045+0.457j)\\\\(0.175-0.077j) & 0.232 & (-0.419+0.280j) & (-0.120+0.103j)\\\\(0.120+0.103j) & (-0.419-0.280j) & 0.857 & (-0.210-0.280j)\\\\(-0.045-0.457j) & (-0.120-0.103j) & (-0.210+0.280j) & 0.143\\\\\\end{array}\\right)\\end{equation*}"
      ],
      "text/plain": [
       "Quantum object: dims = [[4], [4]], shape = (4, 4), type = oper, isherm = True\n",
       "Qobj data =\n",
       "[[ 0.76813333+0.j          0.17451299+0.0765839j   0.12010891-0.10333113j\n",
       "  -0.04507618+0.45655151j]\n",
       " [ 0.17451299-0.0765839j   0.23186667+0.j         -0.41941778+0.28038631j\n",
       "  -0.12010891+0.10333113j]\n",
       " [ 0.12010891+0.10333113j -0.41941778-0.28038631j  0.85699162+0.j\n",
       "  -0.21046997-0.27974853j]\n",
       " [-0.04507618-0.45655151j -0.12010891-0.10333113j -0.21046997+0.27974853j\n",
       "   0.14300838+0.j        ]]"
      ]
     },
     "execution_count": 30,
     "metadata": {},
     "output_type": "execute_result"
    }
   ],
   "source": [
    "qt.Qobj(getchoi(results_3))"
   ]
  },
  {
   "cell_type": "code",
   "execution_count": 31,
   "id": "82f27d4f",
   "metadata": {},
   "outputs": [
    {
     "data": {
      "text/plain": [
       "array([ 0.648-0.j,  0.476+0.j, -0.19 +0.j,  0.067-0.j])"
      ]
     },
     "execution_count": 31,
     "metadata": {},
     "output_type": "execute_result"
    }
   ],
   "source": [
    "np.round(np.linalg.eigvals(getchoi(results_3)/2),3)"
   ]
  },
  {
   "cell_type": "code",
   "execution_count": 34,
   "id": "8ebd2724",
   "metadata": {
    "collapsed": true
   },
   "outputs": [
    {
     "name": "stdout",
     "output_type": "stream",
     "text": [
      "[0.       1.       0.34958  0.650419 0.943377 0.056622]\n",
      "Optimization terminated successfully    (Exit mode 0)\n",
      "            Current function value: 0.021567684217954432\n",
      "            Iterations: 8\n",
      "            Function evaluations: 43\n",
      "            Gradient evaluations: 8\n",
      "[0.949644 0.050355 0.437943 0.562056 0.087649 0.91235 ]\n",
      "Optimization terminated successfully    (Exit mode 0)\n",
      "            Current function value: 0.008342490934675834\n",
      "            Iterations: 22\n",
      "            Function evaluations: 117\n",
      "            Gradient evaluations: 22\n",
      "[0.112714 0.88785  0.362745 0.637254 0.25193  0.748069]\n",
      "Optimization terminated successfully    (Exit mode 0)\n",
      "            Current function value: 1.6421296469983142e-07\n",
      "            Iterations: 23\n",
      "            Function evaluations: 120\n",
      "            Gradient evaluations: 23\n",
      "[6.19688e-01 3.80311e-01 7.45000e-04 9.99254e-01 4.70386e-01 5.29613e-01]\n",
      "Optimization terminated successfully    (Exit mode 0)\n",
      "            Current function value: 0.00032238154508279363\n",
      "            Iterations: 23\n",
      "            Function evaluations: 121\n",
      "            Gradient evaluations: 23\n"
     ]
    }
   ],
   "source": [
    "results_4 = get_tomoresults(counts_tot_4, measurements)"
   ]
  },
  {
   "cell_type": "code",
   "execution_count": 36,
   "id": "2d302865",
   "metadata": {},
   "outputs": [
    {
     "data": {
      "text/latex": [
       "Quantum object: dims = [[4], [4]], shape = (4, 4), type = oper, isherm = True\\begin{equation*}\\left(\\begin{array}{*{11}c}0.134 & (-0.107-0.324j) & (-0.388+0.111j) & (-0.081-0.167j)\\\\(-0.107+0.324j) & 0.866 & (-0.037-0.651j) & (0.388-0.111j)\\\\(-0.388-0.111j) & (-0.037+0.651j) & 0.868 & (-0.049+0.335j)\\\\(-0.081+0.167j) & (0.388+0.111j) & (-0.049-0.335j) & 0.132\\\\\\end{array}\\right)\\end{equation*}"
      ],
      "text/plain": [
       "Quantum object: dims = [[4], [4]], shape = (4, 4), type = oper, isherm = True\n",
       "Qobj data =\n",
       "[[ 0.13418405+0.j         -0.10705277-0.32360188j -0.38811943+0.11081968j\n",
       "  -0.08074699-0.16660795j]\n",
       " [-0.10705277+0.32360188j  0.86581595+0.j         -0.03729033-0.65060232j\n",
       "   0.38811943-0.11081968j]\n",
       " [-0.38811943-0.11081968j -0.03729033+0.65060232j  0.86770549+0.j\n",
       "  -0.04887338+0.33526687j]\n",
       " [-0.08074699+0.16660795j  0.38811943+0.11081968j -0.04887338-0.33526687j\n",
       "   0.13229451+0.j        ]]"
      ]
     },
     "execution_count": 36,
     "metadata": {},
     "output_type": "execute_result"
    }
   ],
   "source": [
    "qt.Qobj(getchoi(results_4))"
   ]
  },
  {
   "cell_type": "code",
   "execution_count": 35,
   "id": "2be9256c",
   "metadata": {},
   "outputs": [
    {
     "data": {
      "text/plain": [
       "array([ 0.934+0.j,  0.129-0.j, -0.015+0.j, -0.049+0.j])"
      ]
     },
     "execution_count": 35,
     "metadata": {},
     "output_type": "execute_result"
    }
   ],
   "source": [
    "np.round(np.linalg.eigvals(getchoi(results_4)/2),3)"
   ]
  },
  {
   "cell_type": "code",
   "execution_count": null,
   "id": "f1b6cbbf",
   "metadata": {},
   "outputs": [],
   "source": []
  }
 ],
 "metadata": {
  "kernelspec": {
   "display_name": "Python 3",
   "language": "python",
   "name": "python3"
  },
  "language_info": {
   "codemirror_mode": {
    "name": "ipython",
    "version": 3
   },
   "file_extension": ".py",
   "mimetype": "text/x-python",
   "name": "python",
   "nbconvert_exporter": "python",
   "pygments_lexer": "ipython3",
   "version": "3.8.8"
  }
 },
 "nbformat": 4,
 "nbformat_minor": 5
}
